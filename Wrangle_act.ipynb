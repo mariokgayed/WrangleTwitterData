{
 "cells": [
  {
   "cell_type": "markdown",
   "metadata": {},
   "source": [
    "# Twitter Data Wrangling\n",
    "## 1. Data Gathering\n",
    "### 1.1 Importing necessary libraries¶"
   ]
  },
  {
   "cell_type": "code",
   "execution_count": 1,
   "metadata": {},
   "outputs": [],
   "source": [
    "import pandas as pd\n",
    "import numpy as np\n",
    "import tweepy as tw\n",
    "import requests\n",
    "import re\n",
    "import json\n",
    "import matplotlib.pyplot as plt\n",
    "import datetime\n",
    "import os\n",
    "import seaborn as sns\n",
    "from scipy import stats\n",
    "import warnings\n",
    "warnings.filterwarnings('ignore')\n",
    "%matplotlib inline"
   ]
  },
  {
   "cell_type": "markdown",
   "metadata": {},
   "source": [
    "### 1.2 Importing first data set \"Twitter Enhanced Archive\" CSV file and creating first DataFrame \"archive_df\""
   ]
  },
  {
   "cell_type": "code",
   "execution_count": 2,
   "metadata": {},
   "outputs": [],
   "source": [
    "#import first data set \"Twitter Enhanced Archive\" CSV file\n",
    "archive_df = pd.read_csv('twitter-archive-enhanced.csv')"
   ]
  },
  {
   "cell_type": "markdown",
   "metadata": {},
   "source": [
    " ### 1.3 Downloading second data set \"image prediction data\" TSV file and creating second DataFrame \"Image_predictions_df\""
   ]
  },
  {
   "cell_type": "code",
   "execution_count": 3,
   "metadata": {},
   "outputs": [],
   "source": [
    "# Downloading and saving the image prediction data using Requests\n",
    "url = 'https://d17h27t6h515a5.cloudfront.net/topher/2017/August/599fd2ad_image-predictions/image-predictions.tsv'\n",
    "response = requests.get(url)\n",
    "\n",
    "#Creating our file's name by extracting its name from the url string\n",
    "file_name = url.split('/')[-1]\n",
    "\n",
    "#Saving the url's content on the local machine in a TSV file, in the same path of \"wrangle_act\"\n",
    "if not os.path.isfile(file_name):\n",
    "    with open(file_name, 'wb') as f:\n",
    "        f.write(response.content)\n",
    "        print(\"\\nThe images predictions file has been successfuly saved as: \"+file_name+\"\\n\")\n",
    "        \n",
    "#creating DataFrame \"Image_predictions_df\"\n",
    "Image_predictions_df=pd.read_csv(file_name, sep='\\t')"
   ]
  },
  {
   "cell_type": "markdown",
   "metadata": {},
   "source": [
    "### 1.4 Quering the additional data from Twitter API using Tweepy, storing it in JSON file and creating third DataFrame 'api_df'"
   ]
  },
  {
   "cell_type": "code",
   "execution_count": 4,
   "metadata": {},
   "outputs": [],
   "source": [
    "#Defining keys and tokens needed to query Twitter API\n",
    "consumer_key= '*********************************'\n",
    "consumer_secret= '******************************'\n",
    "access_token= '*********************************'\n",
    "access_token_secret= '**************************'\n",
    "\n",
    "#Authentication step\n",
    "auth = tw.OAuthHandler(consumer_key, consumer_secret)\n",
    "auth.set_access_token(access_token, access_token_secret)\n",
    "api = tw.API(auth, wait_on_rate_limit=True)\n",
    "\n",
    "# Creating a file for the tweets' text data\n",
    "errors = []\n",
    "if not os.path.isfile('tweet_json.txt'):\n",
    "    # create the file and write on it\n",
    "    with open ('tweet_json.txt', 'w') as file:\n",
    "        for tweet_id in archive_df['tweet_id']:\n",
    "            try:\n",
    "                status = api.get_status(tweet_id, wait_on_rate_limit=True,  wait_on_rate_limit_notify=True, tweet_mode = 'extended')\n",
    "                json.dump(status._json, file)\n",
    "                file.write('\\n')\n",
    "            except Exception as e:\n",
    "                print(\"Error on tweet id {}\".format(tweet_id) + \";\" + str(e))\n",
    "                errors.append(tweet_id)\n",
    "                \n",
    "#Reading the downloaded JSON file by looping on it and storing each line as an element in a list 'tweet_list'         \n",
    "tweet_list = []\n",
    "with open ('tweet_json.txt','r') as file:\n",
    "    for line in file:\n",
    "        tweet=json.loads(line)\n",
    "        tweet_list.append(tweet)\n",
    "        \n",
    "#Creating the third dataframe 'api_df' and selecting only three columns from the tweet_list data\n",
    "api_df=pd.DataFrame(tweet_list,columns=['id','retweet_count','favorite_count'])"
   ]
  },
  {
   "cell_type": "code",
   "execution_count": 5,
   "metadata": {},
   "outputs": [],
   "source": [
    "#to download the three original DataFrames before cleaning\n",
    "\n",
    "#archive_df.to_csv (r'C:\\Users\\mario\\Desktop\\archive_df.csv', index = False, header=True)\n",
    "#Image_predictions_df.to_csv (r'C:\\Users\\mario\\Desktop\\Image_predictions_df.csv', index = False, header=True)\n",
    "#api_df.to_csv (r'C:\\Users\\mario\\Desktop\\api_df.csv', index = False, header=True)\n"
   ]
  },
  {
   "cell_type": "markdown",
   "metadata": {},
   "source": [
    "## 2. Assessment"
   ]
  },
  {
   "cell_type": "code",
   "execution_count": 6,
   "metadata": {},
   "outputs": [
    {
     "data": {
      "text/html": [
       "<div>\n",
       "<style scoped>\n",
       "    .dataframe tbody tr th:only-of-type {\n",
       "        vertical-align: middle;\n",
       "    }\n",
       "\n",
       "    .dataframe tbody tr th {\n",
       "        vertical-align: top;\n",
       "    }\n",
       "\n",
       "    .dataframe thead th {\n",
       "        text-align: right;\n",
       "    }\n",
       "</style>\n",
       "<table border=\"1\" class=\"dataframe\">\n",
       "  <thead>\n",
       "    <tr style=\"text-align: right;\">\n",
       "      <th></th>\n",
       "      <th>tweet_id</th>\n",
       "      <th>in_reply_to_status_id</th>\n",
       "      <th>in_reply_to_user_id</th>\n",
       "      <th>timestamp</th>\n",
       "      <th>source</th>\n",
       "      <th>text</th>\n",
       "      <th>retweeted_status_id</th>\n",
       "      <th>retweeted_status_user_id</th>\n",
       "      <th>retweeted_status_timestamp</th>\n",
       "      <th>expanded_urls</th>\n",
       "      <th>rating_numerator</th>\n",
       "      <th>rating_denominator</th>\n",
       "      <th>name</th>\n",
       "      <th>doggo</th>\n",
       "      <th>floofer</th>\n",
       "      <th>pupper</th>\n",
       "      <th>puppo</th>\n",
       "    </tr>\n",
       "  </thead>\n",
       "  <tbody>\n",
       "    <tr>\n",
       "      <th>0</th>\n",
       "      <td>892420643555336193</td>\n",
       "      <td>NaN</td>\n",
       "      <td>NaN</td>\n",
       "      <td>2017-08-01 16:23:56 +0000</td>\n",
       "      <td>&lt;a href=\"http://twitter.com/download/iphone\" r...</td>\n",
       "      <td>This is Phineas. He's a mystical boy. Only eve...</td>\n",
       "      <td>NaN</td>\n",
       "      <td>NaN</td>\n",
       "      <td>NaN</td>\n",
       "      <td>https://twitter.com/dog_rates/status/892420643...</td>\n",
       "      <td>13</td>\n",
       "      <td>10</td>\n",
       "      <td>Phineas</td>\n",
       "      <td>None</td>\n",
       "      <td>None</td>\n",
       "      <td>None</td>\n",
       "      <td>None</td>\n",
       "    </tr>\n",
       "    <tr>\n",
       "      <th>1</th>\n",
       "      <td>892177421306343426</td>\n",
       "      <td>NaN</td>\n",
       "      <td>NaN</td>\n",
       "      <td>2017-08-01 00:17:27 +0000</td>\n",
       "      <td>&lt;a href=\"http://twitter.com/download/iphone\" r...</td>\n",
       "      <td>This is Tilly. She's just checking pup on you....</td>\n",
       "      <td>NaN</td>\n",
       "      <td>NaN</td>\n",
       "      <td>NaN</td>\n",
       "      <td>https://twitter.com/dog_rates/status/892177421...</td>\n",
       "      <td>13</td>\n",
       "      <td>10</td>\n",
       "      <td>Tilly</td>\n",
       "      <td>None</td>\n",
       "      <td>None</td>\n",
       "      <td>None</td>\n",
       "      <td>None</td>\n",
       "    </tr>\n",
       "    <tr>\n",
       "      <th>2</th>\n",
       "      <td>891815181378084864</td>\n",
       "      <td>NaN</td>\n",
       "      <td>NaN</td>\n",
       "      <td>2017-07-31 00:18:03 +0000</td>\n",
       "      <td>&lt;a href=\"http://twitter.com/download/iphone\" r...</td>\n",
       "      <td>This is Archie. He is a rare Norwegian Pouncin...</td>\n",
       "      <td>NaN</td>\n",
       "      <td>NaN</td>\n",
       "      <td>NaN</td>\n",
       "      <td>https://twitter.com/dog_rates/status/891815181...</td>\n",
       "      <td>12</td>\n",
       "      <td>10</td>\n",
       "      <td>Archie</td>\n",
       "      <td>None</td>\n",
       "      <td>None</td>\n",
       "      <td>None</td>\n",
       "      <td>None</td>\n",
       "    </tr>\n",
       "    <tr>\n",
       "      <th>3</th>\n",
       "      <td>891689557279858688</td>\n",
       "      <td>NaN</td>\n",
       "      <td>NaN</td>\n",
       "      <td>2017-07-30 15:58:51 +0000</td>\n",
       "      <td>&lt;a href=\"http://twitter.com/download/iphone\" r...</td>\n",
       "      <td>This is Darla. She commenced a snooze mid meal...</td>\n",
       "      <td>NaN</td>\n",
       "      <td>NaN</td>\n",
       "      <td>NaN</td>\n",
       "      <td>https://twitter.com/dog_rates/status/891689557...</td>\n",
       "      <td>13</td>\n",
       "      <td>10</td>\n",
       "      <td>Darla</td>\n",
       "      <td>None</td>\n",
       "      <td>None</td>\n",
       "      <td>None</td>\n",
       "      <td>None</td>\n",
       "    </tr>\n",
       "    <tr>\n",
       "      <th>4</th>\n",
       "      <td>891327558926688256</td>\n",
       "      <td>NaN</td>\n",
       "      <td>NaN</td>\n",
       "      <td>2017-07-29 16:00:24 +0000</td>\n",
       "      <td>&lt;a href=\"http://twitter.com/download/iphone\" r...</td>\n",
       "      <td>This is Franklin. He would like you to stop ca...</td>\n",
       "      <td>NaN</td>\n",
       "      <td>NaN</td>\n",
       "      <td>NaN</td>\n",
       "      <td>https://twitter.com/dog_rates/status/891327558...</td>\n",
       "      <td>12</td>\n",
       "      <td>10</td>\n",
       "      <td>Franklin</td>\n",
       "      <td>None</td>\n",
       "      <td>None</td>\n",
       "      <td>None</td>\n",
       "      <td>None</td>\n",
       "    </tr>\n",
       "  </tbody>\n",
       "</table>\n",
       "</div>"
      ],
      "text/plain": [
       "             tweet_id  in_reply_to_status_id  in_reply_to_user_id  \\\n",
       "0  892420643555336193                    NaN                  NaN   \n",
       "1  892177421306343426                    NaN                  NaN   \n",
       "2  891815181378084864                    NaN                  NaN   \n",
       "3  891689557279858688                    NaN                  NaN   \n",
       "4  891327558926688256                    NaN                  NaN   \n",
       "\n",
       "                   timestamp  \\\n",
       "0  2017-08-01 16:23:56 +0000   \n",
       "1  2017-08-01 00:17:27 +0000   \n",
       "2  2017-07-31 00:18:03 +0000   \n",
       "3  2017-07-30 15:58:51 +0000   \n",
       "4  2017-07-29 16:00:24 +0000   \n",
       "\n",
       "                                              source  \\\n",
       "0  <a href=\"http://twitter.com/download/iphone\" r...   \n",
       "1  <a href=\"http://twitter.com/download/iphone\" r...   \n",
       "2  <a href=\"http://twitter.com/download/iphone\" r...   \n",
       "3  <a href=\"http://twitter.com/download/iphone\" r...   \n",
       "4  <a href=\"http://twitter.com/download/iphone\" r...   \n",
       "\n",
       "                                                text  retweeted_status_id  \\\n",
       "0  This is Phineas. He's a mystical boy. Only eve...                  NaN   \n",
       "1  This is Tilly. She's just checking pup on you....                  NaN   \n",
       "2  This is Archie. He is a rare Norwegian Pouncin...                  NaN   \n",
       "3  This is Darla. She commenced a snooze mid meal...                  NaN   \n",
       "4  This is Franklin. He would like you to stop ca...                  NaN   \n",
       "\n",
       "   retweeted_status_user_id retweeted_status_timestamp  \\\n",
       "0                       NaN                        NaN   \n",
       "1                       NaN                        NaN   \n",
       "2                       NaN                        NaN   \n",
       "3                       NaN                        NaN   \n",
       "4                       NaN                        NaN   \n",
       "\n",
       "                                       expanded_urls  rating_numerator  \\\n",
       "0  https://twitter.com/dog_rates/status/892420643...                13   \n",
       "1  https://twitter.com/dog_rates/status/892177421...                13   \n",
       "2  https://twitter.com/dog_rates/status/891815181...                12   \n",
       "3  https://twitter.com/dog_rates/status/891689557...                13   \n",
       "4  https://twitter.com/dog_rates/status/891327558...                12   \n",
       "\n",
       "   rating_denominator      name doggo floofer pupper puppo  \n",
       "0                  10   Phineas  None    None   None  None  \n",
       "1                  10     Tilly  None    None   None  None  \n",
       "2                  10    Archie  None    None   None  None  \n",
       "3                  10     Darla  None    None   None  None  \n",
       "4                  10  Franklin  None    None   None  None  "
      ]
     },
     "execution_count": 6,
     "metadata": {},
     "output_type": "execute_result"
    }
   ],
   "source": [
    "archive_df.head()"
   ]
  },
  {
   "cell_type": "code",
   "execution_count": 7,
   "metadata": {},
   "outputs": [
    {
     "name": "stdout",
     "output_type": "stream",
     "text": [
      "<class 'pandas.core.frame.DataFrame'>\n",
      "RangeIndex: 2356 entries, 0 to 2355\n",
      "Data columns (total 17 columns):\n",
      " #   Column                      Non-Null Count  Dtype  \n",
      "---  ------                      --------------  -----  \n",
      " 0   tweet_id                    2356 non-null   int64  \n",
      " 1   in_reply_to_status_id       78 non-null     float64\n",
      " 2   in_reply_to_user_id         78 non-null     float64\n",
      " 3   timestamp                   2356 non-null   object \n",
      " 4   source                      2356 non-null   object \n",
      " 5   text                        2356 non-null   object \n",
      " 6   retweeted_status_id         181 non-null    float64\n",
      " 7   retweeted_status_user_id    181 non-null    float64\n",
      " 8   retweeted_status_timestamp  181 non-null    object \n",
      " 9   expanded_urls               2297 non-null   object \n",
      " 10  rating_numerator            2356 non-null   int64  \n",
      " 11  rating_denominator          2356 non-null   int64  \n",
      " 12  name                        2356 non-null   object \n",
      " 13  doggo                       2356 non-null   object \n",
      " 14  floofer                     2356 non-null   object \n",
      " 15  pupper                      2356 non-null   object \n",
      " 16  puppo                       2356 non-null   object \n",
      "dtypes: float64(4), int64(3), object(10)\n",
      "memory usage: 313.0+ KB\n"
     ]
    }
   ],
   "source": [
    "archive_df.info()"
   ]
  },
  {
   "cell_type": "code",
   "execution_count": 8,
   "metadata": {},
   "outputs": [
    {
     "data": {
      "text/html": [
       "<div>\n",
       "<style scoped>\n",
       "    .dataframe tbody tr th:only-of-type {\n",
       "        vertical-align: middle;\n",
       "    }\n",
       "\n",
       "    .dataframe tbody tr th {\n",
       "        vertical-align: top;\n",
       "    }\n",
       "\n",
       "    .dataframe thead th {\n",
       "        text-align: right;\n",
       "    }\n",
       "</style>\n",
       "<table border=\"1\" class=\"dataframe\">\n",
       "  <thead>\n",
       "    <tr style=\"text-align: right;\">\n",
       "      <th></th>\n",
       "      <th>tweet_id</th>\n",
       "      <th>jpg_url</th>\n",
       "      <th>img_num</th>\n",
       "      <th>p1</th>\n",
       "      <th>p1_conf</th>\n",
       "      <th>p1_dog</th>\n",
       "      <th>p2</th>\n",
       "      <th>p2_conf</th>\n",
       "      <th>p2_dog</th>\n",
       "      <th>p3</th>\n",
       "      <th>p3_conf</th>\n",
       "      <th>p3_dog</th>\n",
       "    </tr>\n",
       "  </thead>\n",
       "  <tbody>\n",
       "    <tr>\n",
       "      <th>0</th>\n",
       "      <td>666020888022790149</td>\n",
       "      <td>https://pbs.twimg.com/media/CT4udn0WwAA0aMy.jpg</td>\n",
       "      <td>1</td>\n",
       "      <td>Welsh_springer_spaniel</td>\n",
       "      <td>0.465074</td>\n",
       "      <td>True</td>\n",
       "      <td>collie</td>\n",
       "      <td>0.156665</td>\n",
       "      <td>True</td>\n",
       "      <td>Shetland_sheepdog</td>\n",
       "      <td>0.061428</td>\n",
       "      <td>True</td>\n",
       "    </tr>\n",
       "    <tr>\n",
       "      <th>1</th>\n",
       "      <td>666029285002620928</td>\n",
       "      <td>https://pbs.twimg.com/media/CT42GRgUYAA5iDo.jpg</td>\n",
       "      <td>1</td>\n",
       "      <td>redbone</td>\n",
       "      <td>0.506826</td>\n",
       "      <td>True</td>\n",
       "      <td>miniature_pinscher</td>\n",
       "      <td>0.074192</td>\n",
       "      <td>True</td>\n",
       "      <td>Rhodesian_ridgeback</td>\n",
       "      <td>0.072010</td>\n",
       "      <td>True</td>\n",
       "    </tr>\n",
       "    <tr>\n",
       "      <th>2</th>\n",
       "      <td>666033412701032449</td>\n",
       "      <td>https://pbs.twimg.com/media/CT4521TWwAEvMyu.jpg</td>\n",
       "      <td>1</td>\n",
       "      <td>German_shepherd</td>\n",
       "      <td>0.596461</td>\n",
       "      <td>True</td>\n",
       "      <td>malinois</td>\n",
       "      <td>0.138584</td>\n",
       "      <td>True</td>\n",
       "      <td>bloodhound</td>\n",
       "      <td>0.116197</td>\n",
       "      <td>True</td>\n",
       "    </tr>\n",
       "    <tr>\n",
       "      <th>3</th>\n",
       "      <td>666044226329800704</td>\n",
       "      <td>https://pbs.twimg.com/media/CT5Dr8HUEAA-lEu.jpg</td>\n",
       "      <td>1</td>\n",
       "      <td>Rhodesian_ridgeback</td>\n",
       "      <td>0.408143</td>\n",
       "      <td>True</td>\n",
       "      <td>redbone</td>\n",
       "      <td>0.360687</td>\n",
       "      <td>True</td>\n",
       "      <td>miniature_pinscher</td>\n",
       "      <td>0.222752</td>\n",
       "      <td>True</td>\n",
       "    </tr>\n",
       "    <tr>\n",
       "      <th>4</th>\n",
       "      <td>666049248165822465</td>\n",
       "      <td>https://pbs.twimg.com/media/CT5IQmsXIAAKY4A.jpg</td>\n",
       "      <td>1</td>\n",
       "      <td>miniature_pinscher</td>\n",
       "      <td>0.560311</td>\n",
       "      <td>True</td>\n",
       "      <td>Rottweiler</td>\n",
       "      <td>0.243682</td>\n",
       "      <td>True</td>\n",
       "      <td>Doberman</td>\n",
       "      <td>0.154629</td>\n",
       "      <td>True</td>\n",
       "    </tr>\n",
       "  </tbody>\n",
       "</table>\n",
       "</div>"
      ],
      "text/plain": [
       "             tweet_id                                          jpg_url  \\\n",
       "0  666020888022790149  https://pbs.twimg.com/media/CT4udn0WwAA0aMy.jpg   \n",
       "1  666029285002620928  https://pbs.twimg.com/media/CT42GRgUYAA5iDo.jpg   \n",
       "2  666033412701032449  https://pbs.twimg.com/media/CT4521TWwAEvMyu.jpg   \n",
       "3  666044226329800704  https://pbs.twimg.com/media/CT5Dr8HUEAA-lEu.jpg   \n",
       "4  666049248165822465  https://pbs.twimg.com/media/CT5IQmsXIAAKY4A.jpg   \n",
       "\n",
       "   img_num                      p1   p1_conf  p1_dog                  p2  \\\n",
       "0        1  Welsh_springer_spaniel  0.465074    True              collie   \n",
       "1        1                 redbone  0.506826    True  miniature_pinscher   \n",
       "2        1         German_shepherd  0.596461    True            malinois   \n",
       "3        1     Rhodesian_ridgeback  0.408143    True             redbone   \n",
       "4        1      miniature_pinscher  0.560311    True          Rottweiler   \n",
       "\n",
       "    p2_conf  p2_dog                   p3   p3_conf  p3_dog  \n",
       "0  0.156665    True    Shetland_sheepdog  0.061428    True  \n",
       "1  0.074192    True  Rhodesian_ridgeback  0.072010    True  \n",
       "2  0.138584    True           bloodhound  0.116197    True  \n",
       "3  0.360687    True   miniature_pinscher  0.222752    True  \n",
       "4  0.243682    True             Doberman  0.154629    True  "
      ]
     },
     "execution_count": 8,
     "metadata": {},
     "output_type": "execute_result"
    }
   ],
   "source": [
    "Image_predictions_df.head()"
   ]
  },
  {
   "cell_type": "code",
   "execution_count": 9,
   "metadata": {},
   "outputs": [
    {
     "name": "stdout",
     "output_type": "stream",
     "text": [
      "<class 'pandas.core.frame.DataFrame'>\n",
      "RangeIndex: 2075 entries, 0 to 2074\n",
      "Data columns (total 12 columns):\n",
      " #   Column    Non-Null Count  Dtype  \n",
      "---  ------    --------------  -----  \n",
      " 0   tweet_id  2075 non-null   int64  \n",
      " 1   jpg_url   2075 non-null   object \n",
      " 2   img_num   2075 non-null   int64  \n",
      " 3   p1        2075 non-null   object \n",
      " 4   p1_conf   2075 non-null   float64\n",
      " 5   p1_dog    2075 non-null   bool   \n",
      " 6   p2        2075 non-null   object \n",
      " 7   p2_conf   2075 non-null   float64\n",
      " 8   p2_dog    2075 non-null   bool   \n",
      " 9   p3        2075 non-null   object \n",
      " 10  p3_conf   2075 non-null   float64\n",
      " 11  p3_dog    2075 non-null   bool   \n",
      "dtypes: bool(3), float64(3), int64(2), object(4)\n",
      "memory usage: 152.1+ KB\n"
     ]
    }
   ],
   "source": [
    "Image_predictions_df.info()"
   ]
  },
  {
   "cell_type": "code",
   "execution_count": 10,
   "metadata": {},
   "outputs": [
    {
     "data": {
      "text/html": [
       "<div>\n",
       "<style scoped>\n",
       "    .dataframe tbody tr th:only-of-type {\n",
       "        vertical-align: middle;\n",
       "    }\n",
       "\n",
       "    .dataframe tbody tr th {\n",
       "        vertical-align: top;\n",
       "    }\n",
       "\n",
       "    .dataframe thead th {\n",
       "        text-align: right;\n",
       "    }\n",
       "</style>\n",
       "<table border=\"1\" class=\"dataframe\">\n",
       "  <thead>\n",
       "    <tr style=\"text-align: right;\">\n",
       "      <th></th>\n",
       "      <th>id</th>\n",
       "      <th>retweet_count</th>\n",
       "      <th>favorite_count</th>\n",
       "    </tr>\n",
       "  </thead>\n",
       "  <tbody>\n",
       "    <tr>\n",
       "      <th>0</th>\n",
       "      <td>892420643555336193</td>\n",
       "      <td>7403</td>\n",
       "      <td>35121</td>\n",
       "    </tr>\n",
       "    <tr>\n",
       "      <th>1</th>\n",
       "      <td>892177421306343426</td>\n",
       "      <td>5512</td>\n",
       "      <td>30391</td>\n",
       "    </tr>\n",
       "    <tr>\n",
       "      <th>2</th>\n",
       "      <td>891815181378084864</td>\n",
       "      <td>3638</td>\n",
       "      <td>22850</td>\n",
       "    </tr>\n",
       "    <tr>\n",
       "      <th>3</th>\n",
       "      <td>891689557279858688</td>\n",
       "      <td>7581</td>\n",
       "      <td>38401</td>\n",
       "    </tr>\n",
       "    <tr>\n",
       "      <th>4</th>\n",
       "      <td>891327558926688256</td>\n",
       "      <td>8159</td>\n",
       "      <td>36660</td>\n",
       "    </tr>\n",
       "  </tbody>\n",
       "</table>\n",
       "</div>"
      ],
      "text/plain": [
       "                   id  retweet_count  favorite_count\n",
       "0  892420643555336193           7403           35121\n",
       "1  892177421306343426           5512           30391\n",
       "2  891815181378084864           3638           22850\n",
       "3  891689557279858688           7581           38401\n",
       "4  891327558926688256           8159           36660"
      ]
     },
     "execution_count": 10,
     "metadata": {},
     "output_type": "execute_result"
    }
   ],
   "source": [
    "api_df.head()"
   ]
  },
  {
   "cell_type": "code",
   "execution_count": 11,
   "metadata": {},
   "outputs": [
    {
     "name": "stdout",
     "output_type": "stream",
     "text": [
      "<class 'pandas.core.frame.DataFrame'>\n",
      "RangeIndex: 2331 entries, 0 to 2330\n",
      "Data columns (total 3 columns):\n",
      " #   Column          Non-Null Count  Dtype\n",
      "---  ------          --------------  -----\n",
      " 0   id              2331 non-null   int64\n",
      " 1   retweet_count   2331 non-null   int64\n",
      " 2   favorite_count  2331 non-null   int64\n",
      "dtypes: int64(3)\n",
      "memory usage: 54.8 KB\n"
     ]
    }
   ],
   "source": [
    "api_df.info()"
   ]
  },
  {
   "cell_type": "code",
   "execution_count": 12,
   "metadata": {},
   "outputs": [
    {
     "name": "stdout",
     "output_type": "stream",
     "text": [
      "1\n",
      "12\n",
      "1\n"
     ]
    }
   ],
   "source": [
    "#finding the number of dogs classified in more than 1 dog stage\n",
    "print(len(archive_df.query('doggo == \"doggo\" & puppo == \"puppo\"')))\n",
    "print(len(archive_df.query('doggo == \"doggo\" & pupper == \"pupper\"')))\n",
    "print(len(archive_df.query('doggo == \"doggo\" & floofer == \"floofer\"')))"
   ]
  },
  {
   "cell_type": "code",
   "execution_count": 13,
   "metadata": {},
   "outputs": [
    {
     "name": "stdout",
     "output_type": "stream",
     "text": [
      "None         745\n",
      "a             55\n",
      "Charlie       12\n",
      "Lucy          11\n",
      "Cooper        11\n",
      "            ... \n",
      "Enchilada      1\n",
      "Tripp          1\n",
      "Napolean       1\n",
      "Dook           1\n",
      "Storkson       1\n",
      "Name: name, Length: 957, dtype: int64\n"
     ]
    }
   ],
   "source": [
    "#checking the different values of names entered\n",
    "print(archive_df['name'].value_counts())"
   ]
  },
  {
   "cell_type": "code",
   "execution_count": 14,
   "metadata": {},
   "outputs": [
    {
     "name": "stdout",
     "output_type": "stream",
     "text": [
      "181\n",
      "78\n"
     ]
    }
   ],
   "source": [
    "# count of retweets and replies\n",
    "print(len(archive_df.query('retweeted_status_id != \"NaN\"')))\n",
    "print(len(archive_df.query('in_reply_to_status_id != \"NaN\"')))"
   ]
  },
  {
   "cell_type": "code",
   "execution_count": 15,
   "metadata": {},
   "outputs": [
    {
     "data": {
      "text/html": [
       "<div>\n",
       "<style scoped>\n",
       "    .dataframe tbody tr th:only-of-type {\n",
       "        vertical-align: middle;\n",
       "    }\n",
       "\n",
       "    .dataframe tbody tr th {\n",
       "        vertical-align: top;\n",
       "    }\n",
       "\n",
       "    .dataframe thead th {\n",
       "        text-align: right;\n",
       "    }\n",
       "</style>\n",
       "<table border=\"1\" class=\"dataframe\">\n",
       "  <thead>\n",
       "    <tr style=\"text-align: right;\">\n",
       "      <th></th>\n",
       "      <th>rating_numerator</th>\n",
       "      <th>rating_denominator</th>\n",
       "    </tr>\n",
       "  </thead>\n",
       "  <tbody>\n",
       "    <tr>\n",
       "      <th>count</th>\n",
       "      <td>2356.000000</td>\n",
       "      <td>2356.000000</td>\n",
       "    </tr>\n",
       "    <tr>\n",
       "      <th>mean</th>\n",
       "      <td>13.126486</td>\n",
       "      <td>10.455433</td>\n",
       "    </tr>\n",
       "    <tr>\n",
       "      <th>std</th>\n",
       "      <td>45.876648</td>\n",
       "      <td>6.745237</td>\n",
       "    </tr>\n",
       "    <tr>\n",
       "      <th>min</th>\n",
       "      <td>0.000000</td>\n",
       "      <td>0.000000</td>\n",
       "    </tr>\n",
       "    <tr>\n",
       "      <th>25%</th>\n",
       "      <td>10.000000</td>\n",
       "      <td>10.000000</td>\n",
       "    </tr>\n",
       "    <tr>\n",
       "      <th>50%</th>\n",
       "      <td>11.000000</td>\n",
       "      <td>10.000000</td>\n",
       "    </tr>\n",
       "    <tr>\n",
       "      <th>75%</th>\n",
       "      <td>12.000000</td>\n",
       "      <td>10.000000</td>\n",
       "    </tr>\n",
       "    <tr>\n",
       "      <th>max</th>\n",
       "      <td>1776.000000</td>\n",
       "      <td>170.000000</td>\n",
       "    </tr>\n",
       "  </tbody>\n",
       "</table>\n",
       "</div>"
      ],
      "text/plain": [
       "       rating_numerator  rating_denominator\n",
       "count       2356.000000         2356.000000\n",
       "mean          13.126486           10.455433\n",
       "std           45.876648            6.745237\n",
       "min            0.000000            0.000000\n",
       "25%           10.000000           10.000000\n",
       "50%           11.000000           10.000000\n",
       "75%           12.000000           10.000000\n",
       "max         1776.000000          170.000000"
      ]
     },
     "execution_count": 15,
     "metadata": {},
     "output_type": "execute_result"
    }
   ],
   "source": [
    "#exploring the stats of numerators and denominators entries\n",
    "archive_df[['rating_numerator','rating_denominator']].describe()"
   ]
  },
  {
   "cell_type": "code",
   "execution_count": 16,
   "metadata": {},
   "outputs": [
    {
     "name": "stdout",
     "output_type": "stream",
     "text": [
      "324\n"
     ]
    }
   ],
   "source": [
    "#Checking for images with 3 false predictions\n",
    "print(len(Image_predictions_df.query('p1_dog == False & p2_dog == False & p3_dog == False')))"
   ]
  },
  {
   "cell_type": "markdown",
   "metadata": {},
   "source": [
    "#### Assessment summary: "
   ]
  },
  {
   "cell_type": "markdown",
   "metadata": {},
   "source": [
    "- Quality Issues:\n",
    "\n",
    "1.  In twitter archive DataFrame, not all dogs are classified (doggo, floofer, pupper, puppo) and some are not mutually exclusive (having more than 1 classification).\n",
    "\n",
    "2. In twitter archive DataFrame, not all names are correct (some cells are filled with ‘a’ letter only) and many are having ‘None’ in that field.\n",
    "\n",
    "3. In twitter archive DataFrame, Timestamp’s datatype is ‘object’ while it should be Datetime\n",
    "\n",
    "4. In twitter archive DataFrame, some entries are either retweets or replies, these entries need to be excluded.\n",
    "\n",
    "5. In twitter archive DataFrame, there are tweets with no images, missing values in ‘expanded_url’ field. These entries will be dropped\n",
    "\n",
    "6. In twitter archive DataFrame, some values of ratings are inaccurate, maximum reached was 1776 for 'numerator'and 170 'enominator'\n",
    "\n",
    "7. In Images Prediction DataFrame, columns can be renamed in a more descriptive manner(ex: first_prediction, etc.).\n",
    "\n",
    "8. In Tweets Archive DataFrame, the tweets IDs type’s integer.\n",
    "\n",
    "- Tidiness Isuues:\n",
    "\n",
    "1. API DataFrame is just 2 additional information for tweets in tweets archive, so they can be merged together.\n",
    "\n",
    "2. In twitter archive DataFrame, some dogs are being classified with multiple dog stage (doggo, floofer, pupper, puppo), there we can make one column for them all"
   ]
  },
  {
   "cell_type": "markdown",
   "metadata": {},
   "source": [
    "## 1.3 Data Cleaning"
   ]
  },
  {
   "cell_type": "markdown",
   "metadata": {},
   "source": [
    "- Create copies of DataFrames to be cleaned"
   ]
  },
  {
   "cell_type": "code",
   "execution_count": null,
   "metadata": {},
   "outputs": [],
   "source": [
    "archive_df2 = archive_df.copy()\n",
    "Image_predictions_df2 = Image_predictions_df.copy()\n",
    "api_df2 = api_df.copy()"
   ]
  },
  {
   "cell_type": "markdown",
   "metadata": {},
   "source": [
    "- Define:\n",
    "Remove Retweets and Replies"
   ]
  },
  {
   "cell_type": "code",
   "execution_count": 17,
   "metadata": {},
   "outputs": [],
   "source": [
    "#creating 2 DataFrames of the retweets and replies only\n",
    "retweets = archive_df[archive_df['retweeted_status_id'].notnull()]\n",
    "replies  = archive_df[archive_df['in_reply_to_status_id'].notnull()]\n",
    "\n",
    "\n",
    "#creating a list of the tweets IDs of these entries and merging them into 1 list \"blacklist\"\n",
    "list1 = retweets[\"tweet_id\"].tolist()\n",
    "list2 = replies[\"tweet_id\"].tolist()\n",
    "blacklist = list1 + list2\n",
    "\n",
    "#creating a new tweets archive DataFrame excluding these tweets based on the blacklist we made\n",
    "archive_df2 = archive_df[~archive_df['tweet_id'].isin(blacklist)]\n",
    "archive_df2.reset_index(inplace= True,drop=True)\n",
    "\n",
    "#drop the columns that are not necessary now\n",
    "droplist = ['in_reply_to_status_id','in_reply_to_user_id','retweeted_status_id','retweeted_status_user_id','retweeted_status_timestamp']\n",
    "for series in droplist:\n",
    "    if series in archive_df2:\n",
    "        archive_df2.drop(columns=[series],inplace=True)\n",
    "\n",
    "\n",
    "#doing the same for Image predictions DataFrame and API DataFrame\n",
    "Image_predictions_df2 = Image_predictions_df[~Image_predictions_df['tweet_id'].isin(blacklist)]\n",
    "Image_predictions_df2.reset_index(inplace= True,drop=True)\n",
    "\n",
    "api_df2 = api_df[~api_df['id'].isin(blacklist)]\n",
    "api_df2.reset_index(inplace= True, drop=True)"
   ]
  },
  {
   "cell_type": "markdown",
   "metadata": {},
   "source": [
    "- Test"
   ]
  },
  {
   "cell_type": "code",
   "execution_count": 18,
   "metadata": {},
   "outputs": [
    {
     "name": "stdout",
     "output_type": "stream",
     "text": [
      "<class 'pandas.core.frame.DataFrame'>\n",
      "RangeIndex: 2097 entries, 0 to 2096\n",
      "Data columns (total 12 columns):\n",
      " #   Column              Non-Null Count  Dtype \n",
      "---  ------              --------------  ----- \n",
      " 0   tweet_id            2097 non-null   int64 \n",
      " 1   timestamp           2097 non-null   object\n",
      " 2   source              2097 non-null   object\n",
      " 3   text                2097 non-null   object\n",
      " 4   expanded_urls       2094 non-null   object\n",
      " 5   rating_numerator    2097 non-null   int64 \n",
      " 6   rating_denominator  2097 non-null   int64 \n",
      " 7   name                2097 non-null   object\n",
      " 8   doggo               2097 non-null   object\n",
      " 9   floofer             2097 non-null   object\n",
      " 10  pupper              2097 non-null   object\n",
      " 11  puppo               2097 non-null   object\n",
      "dtypes: int64(3), object(9)\n",
      "memory usage: 196.7+ KB\n"
     ]
    }
   ],
   "source": [
    "archive_df2.info()"
   ]
  },
  {
   "cell_type": "code",
   "execution_count": 19,
   "metadata": {},
   "outputs": [
    {
     "name": "stdout",
     "output_type": "stream",
     "text": [
      "<class 'pandas.core.frame.DataFrame'>\n",
      "RangeIndex: 1971 entries, 0 to 1970\n",
      "Data columns (total 12 columns):\n",
      " #   Column    Non-Null Count  Dtype  \n",
      "---  ------    --------------  -----  \n",
      " 0   tweet_id  1971 non-null   int64  \n",
      " 1   jpg_url   1971 non-null   object \n",
      " 2   img_num   1971 non-null   int64  \n",
      " 3   p1        1971 non-null   object \n",
      " 4   p1_conf   1971 non-null   float64\n",
      " 5   p1_dog    1971 non-null   bool   \n",
      " 6   p2        1971 non-null   object \n",
      " 7   p2_conf   1971 non-null   float64\n",
      " 8   p2_dog    1971 non-null   bool   \n",
      " 9   p3        1971 non-null   object \n",
      " 10  p3_conf   1971 non-null   float64\n",
      " 11  p3_dog    1971 non-null   bool   \n",
      "dtypes: bool(3), float64(3), int64(2), object(4)\n",
      "memory usage: 144.5+ KB\n"
     ]
    }
   ],
   "source": [
    "Image_predictions_df2.info()"
   ]
  },
  {
   "cell_type": "code",
   "execution_count": 20,
   "metadata": {},
   "outputs": [
    {
     "name": "stdout",
     "output_type": "stream",
     "text": [
      "<class 'pandas.core.frame.DataFrame'>\n",
      "RangeIndex: 2090 entries, 0 to 2089\n",
      "Data columns (total 3 columns):\n",
      " #   Column          Non-Null Count  Dtype\n",
      "---  ------          --------------  -----\n",
      " 0   id              2090 non-null   int64\n",
      " 1   retweet_count   2090 non-null   int64\n",
      " 2   favorite_count  2090 non-null   int64\n",
      "dtypes: int64(3)\n",
      "memory usage: 49.1 KB\n"
     ]
    }
   ],
   "source": [
    "api_df2.info()"
   ]
  },
  {
   "cell_type": "markdown",
   "metadata": {},
   "source": [
    "-------------------------------------------------------------------------------------------"
   ]
  },
  {
   "cell_type": "markdown",
   "metadata": {},
   "source": [
    "- Define: Remove tweets without images from Archive and API DataFrames, and drop empty 'expanded urls' entries"
   ]
  },
  {
   "cell_type": "code",
   "execution_count": 21,
   "metadata": {},
   "outputs": [],
   "source": [
    "#extracting the tweets IDs that have an image, and dropping tweets without images from Archive and API DataFrames \n",
    "tweets_with_images = Image_predictions_df2['tweet_id'].tolist()\n",
    "\n",
    "archive_df2 = archive_df2[archive_df2['tweet_id'].isin(tweets_with_images)]\n",
    "archive_df2 = archive_df2.dropna(subset=['expanded_urls'])\n",
    "archive_df2.reset_index(drop= True,inplace=True)\n",
    "\n",
    "api_df2= api_df2[api_df2['id'].isin(tweets_with_images)]\n",
    "api_df2.reset_index(drop= True,inplace=True)"
   ]
  },
  {
   "cell_type": "markdown",
   "metadata": {},
   "source": [
    "- Test:"
   ]
  },
  {
   "cell_type": "code",
   "execution_count": 22,
   "metadata": {},
   "outputs": [
    {
     "name": "stdout",
     "output_type": "stream",
     "text": [
      "<class 'pandas.core.frame.DataFrame'>\n",
      "RangeIndex: 1971 entries, 0 to 1970\n",
      "Data columns (total 12 columns):\n",
      " #   Column              Non-Null Count  Dtype \n",
      "---  ------              --------------  ----- \n",
      " 0   tweet_id            1971 non-null   int64 \n",
      " 1   timestamp           1971 non-null   object\n",
      " 2   source              1971 non-null   object\n",
      " 3   text                1971 non-null   object\n",
      " 4   expanded_urls       1971 non-null   object\n",
      " 5   rating_numerator    1971 non-null   int64 \n",
      " 6   rating_denominator  1971 non-null   int64 \n",
      " 7   name                1971 non-null   object\n",
      " 8   doggo               1971 non-null   object\n",
      " 9   floofer             1971 non-null   object\n",
      " 10  pupper              1971 non-null   object\n",
      " 11  puppo               1971 non-null   object\n",
      "dtypes: int64(3), object(9)\n",
      "memory usage: 184.9+ KB\n"
     ]
    }
   ],
   "source": [
    "archive_df2.info()"
   ]
  },
  {
   "cell_type": "code",
   "execution_count": 23,
   "metadata": {},
   "outputs": [
    {
     "name": "stdout",
     "output_type": "stream",
     "text": [
      "<class 'pandas.core.frame.DataFrame'>\n",
      "RangeIndex: 1964 entries, 0 to 1963\n",
      "Data columns (total 3 columns):\n",
      " #   Column          Non-Null Count  Dtype\n",
      "---  ------          --------------  -----\n",
      " 0   id              1964 non-null   int64\n",
      " 1   retweet_count   1964 non-null   int64\n",
      " 2   favorite_count  1964 non-null   int64\n",
      "dtypes: int64(3)\n",
      "memory usage: 46.2 KB\n"
     ]
    }
   ],
   "source": [
    "api_df2.info()"
   ]
  },
  {
   "cell_type": "markdown",
   "metadata": {},
   "source": [
    "------------------------------------------------------------------------------"
   ]
  },
  {
   "cell_type": "markdown",
   "metadata": {},
   "source": [
    "- Define: merge the 4 dogs stages columns into 1 column"
   ]
  },
  {
   "cell_type": "code",
   "execution_count": 24,
   "metadata": {},
   "outputs": [],
   "source": [
    "#replacing 'None' values with empty values in the 4 stages columns\n",
    "archive_df3 = archive_df2.copy()\n",
    "archive_df3.iloc[:, -4:  ] = archive_df3.iloc[:, -4:  ].replace('None','')\n",
    "\n",
    "#concat the content of the 4 columns into 1 new column 'dog_stage'\n",
    "archive_df3['dog_stage'] = archive_df3['doggo'] +archive_df3['floofer']+archive_df3['pupper']+ archive_df3['puppo'] \n",
    "archive_df3.drop(columns=['doggo', 'floofer', 'pupper', 'puppo'],axis =1 , inplace =True)\n",
    "\n",
    "#adding '-' to separate between stages\n",
    "archive_df3.loc[archive_df3.dog_stage == 'doggopupper', 'dog_stage'] = 'doggo-pupper'\n",
    "archive_df3.loc[archive_df3.dog_stage == 'doggofloofer', 'dog_stage'] = 'doggo-floofer'\n",
    "archive_df3.loc[archive_df3.dog_stage == 'doggopuppo', 'dog_stage'] = 'doggo-puppo'\n",
    "\n",
    "archive_df3.dog_stage =archive_df3.dog_stage.replace('' ,np.nan)\n"
   ]
  },
  {
   "cell_type": "markdown",
   "metadata": {},
   "source": [
    " - Test:"
   ]
  },
  {
   "cell_type": "code",
   "execution_count": 25,
   "metadata": {},
   "outputs": [
    {
     "name": "stdout",
     "output_type": "stream",
     "text": [
      "8\n"
     ]
    }
   ],
   "source": [
    "print(len(archive_df3.query('dog_stage == \"doggo-pupper\"')))"
   ]
  },
  {
   "cell_type": "markdown",
   "metadata": {},
   "source": [
    "------------------------------------------------------------------------------------------------"
   ]
  },
  {
   "cell_type": "markdown",
   "metadata": {},
   "source": [
    " - Define: Converting 'Timestamp' type from object to datetime"
   ]
  },
  {
   "cell_type": "code",
   "execution_count": 26,
   "metadata": {},
   "outputs": [],
   "source": [
    "archive_df3[\"timestamp\"] = pd.to_datetime(archive_df2[\"timestamp\"])"
   ]
  },
  {
   "cell_type": "markdown",
   "metadata": {},
   "source": [
    "- Test"
   ]
  },
  {
   "cell_type": "code",
   "execution_count": 27,
   "metadata": {},
   "outputs": [
    {
     "name": "stdout",
     "output_type": "stream",
     "text": [
      "<class 'pandas.core.frame.DataFrame'>\n",
      "RangeIndex: 1971 entries, 0 to 1970\n",
      "Data columns (total 9 columns):\n",
      " #   Column              Non-Null Count  Dtype              \n",
      "---  ------              --------------  -----              \n",
      " 0   tweet_id            1971 non-null   int64              \n",
      " 1   timestamp           1971 non-null   datetime64[ns, UTC]\n",
      " 2   source              1971 non-null   object             \n",
      " 3   text                1971 non-null   object             \n",
      " 4   expanded_urls       1971 non-null   object             \n",
      " 5   rating_numerator    1971 non-null   int64              \n",
      " 6   rating_denominator  1971 non-null   int64              \n",
      " 7   name                1971 non-null   object             \n",
      " 8   dog_stage           303 non-null    object             \n",
      "dtypes: datetime64[ns, UTC](1), int64(3), object(5)\n",
      "memory usage: 138.7+ KB\n"
     ]
    }
   ],
   "source": [
    "archive_df3.info()"
   ]
  },
  {
   "cell_type": "markdown",
   "metadata": {},
   "source": [
    "----------------------------------------------------------------"
   ]
  },
  {
   "cell_type": "markdown",
   "metadata": {},
   "source": [
    "- Define: Removing the invalid dogs' names entries (such as 'a' , etc..)"
   ]
  },
  {
   "cell_type": "code",
   "execution_count": 28,
   "metadata": {},
   "outputs": [
    {
     "data": {
      "text/plain": [
       "NaN         592\n",
       "Charlie      11\n",
       "Oliver       10\n",
       "Cooper       10\n",
       "Lucy         10\n",
       "           ... \n",
       "Poppy         1\n",
       "Ashleigh      1\n",
       "Rolf          1\n",
       "Bronte        1\n",
       "Carbon        1\n",
       "Name: name, Length: 937, dtype: int64"
      ]
     },
     "execution_count": 28,
     "metadata": {},
     "output_type": "execute_result"
    }
   ],
   "source": [
    "pattern_2 = re.compile(r'(?:name(?:d)?)\\s{1}(?:is\\s)?([A-Za-z]+)')\n",
    "for index, row in archive_df3.iterrows():  \n",
    "    if row['name'][0].islower() or row['name'] == 'None':\n",
    "        try:\n",
    "            c_name = re.findall(pattern_2, row['text'])[0]\n",
    "            archive_df3.loc[index,'name'] = archive_df3.loc[index,'name'].replace(row['name'], c_name)\n",
    "\n",
    "        except IndexError:\n",
    "            archive_df3.loc[index,'name'] = np.nan\n",
    "\n",
    "            \n",
    "archive_df3.name.value_counts(dropna = False)"
   ]
  },
  {
   "cell_type": "markdown",
   "metadata": {},
   "source": [
    " - Test"
   ]
  },
  {
   "cell_type": "code",
   "execution_count": 29,
   "metadata": {},
   "outputs": [
    {
     "name": "stdout",
     "output_type": "stream",
     "text": [
      "['Phineas' 'Tilly' 'Archie' 'Darla' 'Franklin' nan 'Jax' 'Zoey' 'Cassie'\n",
      " 'Koda' 'Bruno' 'Ted' 'Stuart' 'Oliver' 'Jim' 'Zeke' 'Ralphus' 'Gerald'\n",
      " 'Jeffrey' 'Canela' 'Maya' 'Mingus' 'Derek' 'Roscoe' 'Waffles' 'Jimbo'\n",
      " 'Maisey' 'Earl' 'Lola' 'Kevin' 'Yogi' 'Noah' 'Bella' 'Grizzwald' 'Rusty'\n",
      " 'Gus' 'Stanley' 'Alfy' 'Koko' 'Rey' 'Gary' 'Elliot' 'Louis' 'Jesse'\n",
      " 'Romeo' 'Bailey' 'Duddles' 'Jack' 'Steven' 'Beau' 'Snoopy' 'Shadow'\n",
      " 'Emmy' 'Aja' 'Penny' 'Dante' 'Nelly' 'Ginger' 'Benedict' 'Venti' 'Goose'\n",
      " 'Nugget' 'Cash' 'Jed' 'Sebastian' 'Sierra' 'Monkey' 'Harry' 'Kody'\n",
      " 'Lassie' 'Rover' 'Napolean' 'Boomer' 'Cody' 'Rumble' 'Clifford' 'Dewey'\n",
      " 'Scout' 'Gizmo' 'Walter' 'Cooper' 'Harold' 'Shikha' 'Lili' 'Jamesy'\n",
      " 'Coco' 'Sammy' 'Meatball' 'Paisley' 'Albus' 'Neptune' 'Belle' 'Quinn'\n",
      " 'Zooey' 'Dave' 'Jersey' 'Hobbes' 'Burt' 'Lorenzo' 'Carl' 'Jordy' 'Milky'\n",
      " 'Trooper' 'Sophie' 'Wyatt' 'Rosie' 'Thor' 'Oscar' 'Callie' 'Cermet'\n",
      " 'Marlee' 'Arya' 'Einstein' 'Alice' 'Rumpole' 'Benny' 'Aspen' 'Jarod'\n",
      " 'Wiggles' 'General' 'Sailor' 'Iggy' 'Snoop' 'Kyle' 'Leo' 'Riley' 'Noosh'\n",
      " 'Odin' 'Jerry' 'Georgie' 'Rontu' 'Cannon' 'Furzey' 'Daisy' 'Tuck'\n",
      " 'Barney' 'Vixen' 'Jarvis' 'Mimosa' 'Pickles' 'Brady' 'Luna' 'Charlie'\n",
      " 'Margo' 'Sadie' 'Hank' 'Tycho' 'Indie' 'Winnie' 'George' 'Bentley' 'Max'\n",
      " 'Dawn' 'Maddie' 'Monty' 'Sojourner' 'Winston' 'Odie' 'Arlo' 'Vincent'\n",
      " 'Lucy' 'Clark' 'Mookie' 'Meera' 'Ava' 'Eli' 'Ash' 'Tucker' 'Tobi'\n",
      " 'Chester' 'Wilson' 'Sunshine' 'Lipton' 'Bronte' 'Poppy' 'Gidget' 'Rhino'\n",
      " 'Willow' 'Orion' 'Eevee' 'Smiley' 'Miguel' 'Emanuel' 'Kuyu' 'Dutch'\n",
      " 'Pete' 'Scooter' 'Reggie' 'Lilly' 'Samson' 'Mia' 'Astrid' 'Malcolm'\n",
      " 'Dexter' 'Alfie' 'Fiona' 'Mutt' 'Bear' 'Doobert' 'Beebop' 'Alexander'\n",
      " 'Sailer' 'Brutus' 'Kona' 'Boots' 'Ralphie' 'Loki' 'Cupid' 'Pawnd' 'Pilot'\n",
      " 'Ike' 'Mo' 'Toby' 'Sweet' 'Pablo' 'Nala' 'Crawford' 'Gabe' 'Jimison'\n",
      " 'Duchess' 'Harlso' 'Sundance' 'Luca' 'Flash' 'Sunny' 'Howie' 'Jazzy'\n",
      " 'Anna' 'Finn' 'Bo' 'Wafer' 'Tom' 'Florence' 'Autumn' 'Buddy' 'Dido'\n",
      " 'Eugene' 'Ken' 'Strudel' 'Tebow' 'Chloe' 'Timber' 'Binky' 'Moose'\n",
      " 'Dudley' 'Comet' 'Akumi' 'Titan' 'Olivia' 'Alf' 'Oshie' 'Chubbs' 'Sky'\n",
      " 'Atlas' 'Eleanor' 'Layla' 'Rocky' 'Baron' 'Tyr' 'Bauer' 'Swagger'\n",
      " 'Brandi' 'Mary' 'Moe' 'Halo' 'Augie' 'Craig' 'Sam' 'Hunter' 'Pavlov'\n",
      " 'Phil' 'Kyro' 'Wallace' 'Ito' 'Ollie' 'Stephan' 'Lennon' 'Major' 'Duke'\n",
      " 'Sansa' 'Shooter' 'Django' 'Diogi' 'Sonny' 'Marley' 'Severus' 'Ronnie'\n",
      " 'Milo' 'Bones' 'Mauve' 'Chef' 'Doc' 'Peaches' 'Sobe' 'Longfellow'\n",
      " 'Mister' 'Iroh' 'Pancake' 'Snicku' 'Ruby' 'Brody' 'Mack' 'Nimbus' 'Laika'\n",
      " 'Maximus' 'Dobby' 'Moreton' 'Juno' 'Maude' 'Lily' 'Newt' 'Benji' 'Nida'\n",
      " 'Robin' 'Monster' 'BeBe' 'Remus' 'Levi' 'Mabel' 'Misty' 'Betty' 'Mosby'\n",
      " 'Maggie' 'Bruce' 'Happy' 'Brownie' 'Rizzy' 'Stella' 'Butter' 'Frank'\n",
      " 'Tonks' 'Lincoln' 'Rory' 'Logan' 'Dale' 'Rizzo' 'Mattie' 'Pinot' 'Dallas'\n",
      " 'Hero' 'Frankie' 'Stormy' 'Mairi' 'Loomis' 'Godi' 'Cali' 'Deacon' 'Timmy'\n",
      " 'Sampson' 'Chipson' 'Oakley' 'Dash' 'Hercules' 'Jay' 'Mya' 'Strider'\n",
      " 'Wesley' 'Solomon' 'Huck' 'O' 'Blue' 'Anakin' 'Finley' 'Sprinkles'\n",
      " 'Heinrich' 'Shakespeare' 'Chelsea' 'Bungalo' 'Chip' 'Grey' 'Roosevelt'\n",
      " 'Willem' 'Davey' 'Dakota' 'Fizz' 'Dixie' 'Al' 'Jackson' 'Carbon' 'Klein'\n",
      " 'DonDon' 'Kirby' 'Lou' 'Chevy' 'Tito' 'Philbert' 'Louie' 'Rupert' 'Rufus'\n",
      " 'Brudge' 'Shadoe' 'Angel' 'Brat' 'Tove' 'Gromit' 'Aubie' 'Kota' 'Leela'\n",
      " 'Glenn' 'Shelby' 'Sephie' 'Bonaparte' 'Albert' 'Wishes' 'Rose' 'Theo'\n",
      " 'Rocco' 'Fido' 'Emma' 'Spencer' 'Lilli' 'Boston' 'Brandonald' 'Corey'\n",
      " 'Leonard' 'Beckham' 'Devón' 'Gert' 'Watson' 'Keith' 'Dex' 'Ace' 'Tayzie'\n",
      " 'Grizzie' 'Gilbert' 'Meyer' 'Arnie' 'Zoe' 'Stewie' 'Calvin' 'Lilah'\n",
      " 'Spanky' 'Jameson' 'Piper' 'Atticus' 'Blu' 'Dietrich' 'Divine' 'Tripp'\n",
      " 'Cora' 'Huxley' 'Bookstore' 'Abby' 'Shiloh' 'Gustav' 'Arlen' 'Percy'\n",
      " 'Lenox' 'Sugar' 'Harvey' 'Blanket' 'Geno' 'Stark' 'Beya' 'Kilo' 'Kayla'\n",
      " 'Maxaroni' 'Bell' 'Doug' 'Edmund' 'Aqua' 'Theodore' 'Baloo' 'Chase'\n",
      " 'Nollie' 'Rorie' 'Simba' 'Charles' 'Bayley' 'Axel' 'Storkson' 'Remy'\n",
      " 'Chadrick' 'Kellogg' 'Buckley' 'Livvie' 'Terry' 'Hermione' 'Ralpher'\n",
      " 'Aldrick' 'Larry' 'Rooney' 'Crystal' 'Ziva' 'Stefan' 'Pupcasso' 'Puff'\n",
      " 'Flurpson' 'Coleman' 'Enchilada' 'Raymond' 'Rueben' 'Cilantro' 'Karll'\n",
      " 'Sprout' 'Blitz' 'Bloop' 'Colby' 'Lillie' 'Fred' 'Ashleigh' 'Kreggory'\n",
      " 'Sarge' 'Luther' 'Reginald' 'Ivar' 'Jangle' 'Schnitzel' 'Panda'\n",
      " 'Berkeley' 'Ralphé' 'Charleson' 'Clyde' 'Harnold' 'Sid' 'Pippa' 'Otis'\n",
      " 'Carper' 'Bowie' 'Alexanderson' 'Suki' 'Barclay' 'Ebby' 'Flávio' 'Smokey'\n",
      " 'Link' 'Jennifur' 'Bluebert' 'Stephanus' 'Bubbles' 'Zeus' 'Bertson'\n",
      " 'Nico' 'Michelangelope' 'Siba' 'Calbert' 'Curtis' 'Travis' 'Thumas'\n",
      " 'Kanu' 'Lance' 'Opie' 'Stubert' 'Kane' 'Olive' 'Chuckles' 'Staniel'\n",
      " 'Sora' 'Beemo' 'Gunner' 'Lacy' 'Tater' 'Olaf' 'Cecil' 'Vince' 'Karma'\n",
      " 'Billy' 'Walker' 'Rodney' 'Klevin' 'Malikai' 'Bobble' 'River' 'Jebberson'\n",
      " 'Remington' 'Farfle' 'Jiminus' 'Harper' 'Keurig' 'Clarkus' 'Finnegus'\n",
      " 'Cupcake' 'Kathmandu' 'Ellie' 'Katie' 'Kara' 'Adele' 'Zara' 'Ambrose'\n",
      " 'Jimothy' 'Bode' 'Terrenth' 'Reese' 'Chesterson' 'Lucia' 'Bisquick'\n",
      " 'Ralphson' 'Socks' 'Rambo' 'Fiji' 'Rilo' 'Bilbo' 'Coopson' 'Yoda'\n",
      " 'Millie' 'Chet' 'Crouton' 'Daniel' 'Kaia' 'Murphy' 'Dotsy' 'Eazy' 'Coops'\n",
      " 'Fillup' 'Miley' 'Charl' 'Reagan' 'CeCe' 'Cuddles' 'Claude' 'Jessiga'\n",
      " 'Carter' 'Ole' 'Blipson' 'Reptar' 'Trevith' 'Berb' 'Bob' 'Colin' 'Brian'\n",
      " 'Oliviér' 'Grady' 'Kobe' 'Freddery' 'Bodie' 'Dunkin' 'Wally' 'Tupawc'\n",
      " 'Amber' 'Herschel' 'Edgar' 'Kingsley' 'Brockly' 'Richie' 'Molly'\n",
      " 'Vinscent' 'Cedrick' 'Hazel' 'Lolo' 'Eriq' 'Phred' 'Maxwell' 'Geoff'\n",
      " 'Covach' 'Durg' 'Fynn' 'Ricky' 'Herald' 'Lucky' 'Trip' 'Clarence'\n",
      " 'Hamrick' 'Brad' 'Pubert' 'Frönq' 'Derby' 'Lizzie' 'Blakely' 'Opal'\n",
      " 'Marq' 'Kramer' 'Tyrone' 'Gordon' 'Baxter' 'Mona' 'Horace' 'Crimson'\n",
      " 'Birf' 'Hammond' 'Lorelei' 'Marty' 'Brooks' 'Petrick' 'Hubertson'\n",
      " 'Gerbald' 'Oreo' 'Bruiser' 'Perry' 'Bobby' 'Jeph' 'Obi' 'Tino' 'Kulet'\n",
      " 'Lupe' 'Tiger' 'Jiminy' 'Griffin' 'Banjo' 'Brandy' 'Lulu' 'Darrel' 'Taco'\n",
      " 'Joey' 'Patrick' 'Kreg' 'Todo' 'Tess' 'Thea' 'Ulysses' 'Toffee' 'Apollo'\n",
      " 'Carly' 'Asher' 'Glacier' 'Chuck' 'Champ' 'Ozzie' 'Griswold' 'Cheesy'\n",
      " 'Moofasa' 'Hector' 'Goliath' 'Kawhi' 'Ozzy' 'Emmie' 'Penelope' 'Willie'\n",
      " 'Rinna' 'Sabertooth' 'Mike' 'William' 'Dwight' 'Evy' 'Hurley' 'Rubio'\n",
      " 'Chompsky' 'Linda' 'Tug' 'Tango' 'Grizz' 'Jerome' 'Crumpet' 'Jessifer'\n",
      " 'Ralph' 'Sandy' 'Humphrey' 'Tassy' 'Juckson' 'Chuq' 'Tyrus' 'Karl'\n",
      " 'Godzilla' 'Vinnie' 'Kenneth' 'Herm' 'Bert' 'Striker' 'Donny' 'Pepper'\n",
      " 'Bernie' 'Buddah' 'Lenny' 'Wylie' 'Arnold' 'Zuzu' 'Mollie' 'Laela'\n",
      " 'Tedders' 'Superpup' 'Rufio' 'Jeb' 'Rodman' 'Jonah' 'Chesney' 'Kenny'\n",
      " 'Henry' 'Bobbay' 'Mitch' 'Kaiya' 'Acro' 'Aiden' 'Obie' 'Dot' 'Shnuggles'\n",
      " 'Kendall' 'Kip' 'Jeffri' 'Steve' 'Eve' 'Mac' 'Fletcher' 'Kenzie'\n",
      " 'Pumpkin' 'Schnozz' 'Gustaf' 'Cheryl' 'Ed' 'Leonidas' 'Norman' 'Caryl'\n",
      " 'Scott' 'Taz' 'Darby' 'Jackie' 'Jazz' 'Franq' 'Pippin' 'Rolf' 'Snickers'\n",
      " 'Ridley' 'Cal' 'Bradley' 'Bubba' 'Tuco' 'Patch' 'Mojo' 'Batdog' 'Dylan'\n",
      " 'Mark' 'Jacob' 'JD' 'Alejandro' 'Scruffers' 'Pip' 'Julius' 'Tanner'\n",
      " 'Sparky' 'Anthony' 'Holly' 'Jett' 'Amy' 'Sage' 'Andy' 'Mason' 'of'\n",
      " 'Trigger' 'Antony' 'Creg' 'Traviss' 'Gin' 'Jeffrie' 'Danny' 'Ester'\n",
      " 'Pluto' 'Bloo' 'Edd' 'Paull' 'Willy' 'Spork' 'Herb' 'Damon' 'Peanut'\n",
      " 'Nigel' 'Cherokee' 'Butters' 'Hemry' 'Sandra' 'Fabio' 'Randall' 'Liam'\n",
      " 'Tommy' 'Ben' 'Raphael' 'Julio' 'Andru' 'Alphred' 'Kloey' 'Shawwn' 'Skye'\n",
      " 'Kollin' 'Alfredo' 'Ronduh' 'Billl' 'Saydee' 'Dug' 'Sully' 'Kirk' 'Ralf'\n",
      " 'Clarq' 'Jaspers' 'Samsom' 'Terrance' 'Harrison' 'Chaz' 'Jeremy' 'Jaycob'\n",
      " 'Leroi' 'Lambeau' 'Ruffles' 'Amélie' 'Bobb' 'Banditt' 'Kevon' 'Winifred'\n",
      " 'Hanz' 'Berta' 'Churlie' 'Zeek' 'Timofy' 'Maks' 'Jomathan' 'Kallie'\n",
      " 'Marvin' 'Spark' 'Gòrdón' 'Chuk' 'Jo' 'DayZ' 'Guss' 'Jareld' 'Torque'\n",
      " 'Ron' 'Skittles' 'Alfonso' 'Cleopatricia' 'Erik' 'Stu' 'Tedrick' 'Shaggy'\n",
      " 'Filup' 'Kial' 'Klint' 'Naphaniel' 'Big' 'Dook' 'Tickles' 'Hall'\n",
      " 'Philippe' 'Kohl' 'Biden' 'Fwed' 'Genevieve' 'Joshwa' 'Timison' 'Daryl'\n",
      " 'Bradlay' 'Pipsy' 'Clybe' 'Keet' 'Carll' 'Pepe' 'Jockson' 'Octaviath'\n",
      " 'Josep' 'Lugan' 'Johm' 'Christoper']\n"
     ]
    }
   ],
   "source": [
    "a = archive_df3['name'].unique()\n",
    "print(a)"
   ]
  },
  {
   "cell_type": "markdown",
   "metadata": {},
   "source": [
    "----------------------------------------------------------------"
   ]
  },
  {
   "cell_type": "markdown",
   "metadata": {},
   "source": [
    "- Define: Renaming Image predictions DataFrame headers "
   ]
  },
  {
   "cell_type": "code",
   "execution_count": 30,
   "metadata": {},
   "outputs": [],
   "source": [
    "Image_predictions_df2.rename(columns={'p1': 'first_prediction',\n",
    "                                      'p2': 'second_prediction',\n",
    "                                      'p3': 'third_prediction',\n",
    "                                      'p1_conf': 'first_prediction_confidence',\n",
    "                                      'p2_conf': 'second_prediction_confidence',\n",
    "                                      'p3_conf': 'third_prediction_confidence',\n",
    "                                      'p1_dog':'first_prediction_result',\n",
    "                                      'p2_dog':'second_prediction_result',\n",
    "                                      'p3_dog':'third_prediction_result'}, inplace=True)"
   ]
  },
  {
   "cell_type": "code",
   "execution_count": 31,
   "metadata": {},
   "outputs": [
    {
     "name": "stdout",
     "output_type": "stream",
     "text": [
      "<class 'pandas.core.frame.DataFrame'>\n",
      "RangeIndex: 1971 entries, 0 to 1970\n",
      "Data columns (total 12 columns):\n",
      " #   Column                        Non-Null Count  Dtype  \n",
      "---  ------                        --------------  -----  \n",
      " 0   tweet_id                      1971 non-null   int64  \n",
      " 1   jpg_url                       1971 non-null   object \n",
      " 2   img_num                       1971 non-null   int64  \n",
      " 3   first_prediction              1971 non-null   object \n",
      " 4   first_prediction_confidence   1971 non-null   float64\n",
      " 5   first_prediction_result       1971 non-null   bool   \n",
      " 6   second_prediction             1971 non-null   object \n",
      " 7   second_prediction_confidence  1971 non-null   float64\n",
      " 8   second_prediction_result      1971 non-null   bool   \n",
      " 9   third_prediction              1971 non-null   object \n",
      " 10  third_prediction_confidence   1971 non-null   float64\n",
      " 11  third_prediction_result       1971 non-null   bool   \n",
      "dtypes: bool(3), float64(3), int64(2), object(4)\n",
      "memory usage: 144.5+ KB\n"
     ]
    }
   ],
   "source": [
    "Image_predictions_df2.info()"
   ]
  },
  {
   "cell_type": "markdown",
   "metadata": {},
   "source": [
    "- Test"
   ]
  },
  {
   "cell_type": "code",
   "execution_count": 32,
   "metadata": {},
   "outputs": [
    {
     "name": "stdout",
     "output_type": "stream",
     "text": [
      "Labrador_retriever          95\n",
      "golden_retriever            82\n",
      "Cardigan                    72\n",
      "Chihuahua                   43\n",
      "Chesapeake_Bay_retriever    40\n",
      "                            ..\n",
      "wallet                       1\n",
      "bathing_cap                  1\n",
      "monitor                      1\n",
      "chimpanzee                   1\n",
      "tray                         1\n",
      "Name: second_prediction, Length: 397, dtype: int64\n"
     ]
    }
   ],
   "source": [
    "\n",
    "x = Image_predictions_df2['second_prediction'].value_counts()\n",
    "print(x)"
   ]
  },
  {
   "cell_type": "markdown",
   "metadata": {},
   "source": [
    "-------------------------------------------------"
   ]
  },
  {
   "cell_type": "markdown",
   "metadata": {},
   "source": [
    "- Define: Convert all predictions to lowercase"
   ]
  },
  {
   "cell_type": "code",
   "execution_count": 33,
   "metadata": {},
   "outputs": [],
   "source": [
    "Image_predictions_df2['first_prediction'] = Image_predictions_df2['first_prediction'].str.title()\n",
    "Image_predictions_df2['second_prediction'] = Image_predictions_df2['second_prediction'].str.title()\n",
    "Image_predictions_df2['third_prediction'] = Image_predictions_df2['third_prediction'].str.title()"
   ]
  },
  {
   "cell_type": "markdown",
   "metadata": {},
   "source": [
    "- Test"
   ]
  },
  {
   "cell_type": "code",
   "execution_count": 34,
   "metadata": {},
   "outputs": [
    {
     "name": "stdout",
     "output_type": "stream",
     "text": [
      "Labrador_Retriever          95\n",
      "Golden_Retriever            82\n",
      "Cardigan                    73\n",
      "Chihuahua                   43\n",
      "Chesapeake_Bay_Retriever    40\n",
      "                            ..\n",
      "Stingray                     1\n",
      "Cowboy_Boot                  1\n",
      "Minibus                      1\n",
      "Snorkel                      1\n",
      "Snail                        1\n",
      "Name: second_prediction, Length: 396, dtype: int64\n"
     ]
    }
   ],
   "source": [
    "x = Image_predictions_df2['second_prediction'].value_counts()\n",
    "print(x)"
   ]
  },
  {
   "cell_type": "markdown",
   "metadata": {},
   "source": [
    "------------------------------------------------------"
   ]
  },
  {
   "cell_type": "markdown",
   "metadata": {},
   "source": [
    "- Define: Setting all Denominators values to 10"
   ]
  },
  {
   "cell_type": "code",
   "execution_count": 35,
   "metadata": {},
   "outputs": [],
   "source": [
    "archive_df3['denominator'] = '10'"
   ]
  },
  {
   "cell_type": "markdown",
   "metadata": {},
   "source": [
    " - Test"
   ]
  },
  {
   "cell_type": "code",
   "execution_count": 36,
   "metadata": {},
   "outputs": [
    {
     "data": {
      "text/plain": [
       "10    1971\n",
       "Name: denominator, dtype: int64"
      ]
     },
     "execution_count": 36,
     "metadata": {},
     "output_type": "execute_result"
    }
   ],
   "source": [
    "archive_df3['denominator'].value_counts()"
   ]
  },
  {
   "cell_type": "markdown",
   "metadata": {},
   "source": [
    "--------------------------"
   ]
  },
  {
   "cell_type": "markdown",
   "metadata": {},
   "source": [
    "- Define: Replacing the strange outlying numerator values by '10'"
   ]
  },
  {
   "cell_type": "code",
   "execution_count": 37,
   "metadata": {},
   "outputs": [],
   "source": [
    "archive_df3['rating_numerator'].replace({ 1776:10,420:10,204:10,144:10,88:10,165:10 \n",
    "                                         ,50:10,99:10,80:10,45:10,60:10,44:10\n",
    "                                         ,121:10,26:10,84:10,24:10,75:10,27:10}, inplace=True)"
   ]
  },
  {
   "cell_type": "markdown",
   "metadata": {},
   "source": [
    " -Test"
   ]
  },
  {
   "cell_type": "code",
   "execution_count": 38,
   "metadata": {},
   "outputs": [
    {
     "data": {
      "text/plain": [
       "array([13, 12, 14,  5, 11,  6, 10,  0,  3,  7,  8,  9,  4,  2,  1],\n",
       "      dtype=int64)"
      ]
     },
     "execution_count": 38,
     "metadata": {},
     "output_type": "execute_result"
    }
   ],
   "source": [
    "archive_df3['rating_numerator'].unique()\n"
   ]
  },
  {
   "cell_type": "markdown",
   "metadata": {},
   "source": [
    "------------------------------------------------------------"
   ]
  },
  {
   "cell_type": "markdown",
   "metadata": {},
   "source": [
    "- Define: Merging API and Archive DataFrames"
   ]
  },
  {
   "cell_type": "code",
   "execution_count": 39,
   "metadata": {},
   "outputs": [],
   "source": [
    "from functools import reduce\n",
    "\n",
    "#Renaming the id column to match other DataFrames 'tweet_id' instead of 'id'\n",
    "api_df2.rename(columns = {'id': 'tweet_id'}, inplace = True)\n",
    "\n",
    "data_frames = [archive_df3, api_df2]\n",
    "\n",
    "# if you want to fill the values that don't exist in the lines of merged dataframe simply fill with required strings as\n",
    "clean_tweets_df = reduce(lambda  left,right: pd.merge(left,right,on=['tweet_id'],how='outer'), data_frames)"
   ]
  },
  {
   "cell_type": "markdown",
   "metadata": {},
   "source": [
    "- Test"
   ]
  },
  {
   "cell_type": "code",
   "execution_count": 40,
   "metadata": {},
   "outputs": [
    {
     "data": {
      "text/html": [
       "<div>\n",
       "<style scoped>\n",
       "    .dataframe tbody tr th:only-of-type {\n",
       "        vertical-align: middle;\n",
       "    }\n",
       "\n",
       "    .dataframe tbody tr th {\n",
       "        vertical-align: top;\n",
       "    }\n",
       "\n",
       "    .dataframe thead th {\n",
       "        text-align: right;\n",
       "    }\n",
       "</style>\n",
       "<table border=\"1\" class=\"dataframe\">\n",
       "  <thead>\n",
       "    <tr style=\"text-align: right;\">\n",
       "      <th></th>\n",
       "      <th>tweet_id</th>\n",
       "      <th>timestamp</th>\n",
       "      <th>source</th>\n",
       "      <th>text</th>\n",
       "      <th>expanded_urls</th>\n",
       "      <th>rating_numerator</th>\n",
       "      <th>rating_denominator</th>\n",
       "      <th>name</th>\n",
       "      <th>dog_stage</th>\n",
       "      <th>denominator</th>\n",
       "      <th>retweet_count</th>\n",
       "      <th>favorite_count</th>\n",
       "    </tr>\n",
       "  </thead>\n",
       "  <tbody>\n",
       "    <tr>\n",
       "      <th>0</th>\n",
       "      <td>892420643555336193</td>\n",
       "      <td>2017-08-01 16:23:56+00:00</td>\n",
       "      <td>&lt;a href=\"http://twitter.com/download/iphone\" r...</td>\n",
       "      <td>This is Phineas. He's a mystical boy. Only eve...</td>\n",
       "      <td>https://twitter.com/dog_rates/status/892420643...</td>\n",
       "      <td>13</td>\n",
       "      <td>10</td>\n",
       "      <td>Phineas</td>\n",
       "      <td>NaN</td>\n",
       "      <td>10</td>\n",
       "      <td>7403.0</td>\n",
       "      <td>35121.0</td>\n",
       "    </tr>\n",
       "    <tr>\n",
       "      <th>1</th>\n",
       "      <td>892177421306343426</td>\n",
       "      <td>2017-08-01 00:17:27+00:00</td>\n",
       "      <td>&lt;a href=\"http://twitter.com/download/iphone\" r...</td>\n",
       "      <td>This is Tilly. She's just checking pup on you....</td>\n",
       "      <td>https://twitter.com/dog_rates/status/892177421...</td>\n",
       "      <td>13</td>\n",
       "      <td>10</td>\n",
       "      <td>Tilly</td>\n",
       "      <td>NaN</td>\n",
       "      <td>10</td>\n",
       "      <td>5512.0</td>\n",
       "      <td>30391.0</td>\n",
       "    </tr>\n",
       "    <tr>\n",
       "      <th>2</th>\n",
       "      <td>891815181378084864</td>\n",
       "      <td>2017-07-31 00:18:03+00:00</td>\n",
       "      <td>&lt;a href=\"http://twitter.com/download/iphone\" r...</td>\n",
       "      <td>This is Archie. He is a rare Norwegian Pouncin...</td>\n",
       "      <td>https://twitter.com/dog_rates/status/891815181...</td>\n",
       "      <td>12</td>\n",
       "      <td>10</td>\n",
       "      <td>Archie</td>\n",
       "      <td>NaN</td>\n",
       "      <td>10</td>\n",
       "      <td>3638.0</td>\n",
       "      <td>22850.0</td>\n",
       "    </tr>\n",
       "    <tr>\n",
       "      <th>3</th>\n",
       "      <td>891689557279858688</td>\n",
       "      <td>2017-07-30 15:58:51+00:00</td>\n",
       "      <td>&lt;a href=\"http://twitter.com/download/iphone\" r...</td>\n",
       "      <td>This is Darla. She commenced a snooze mid meal...</td>\n",
       "      <td>https://twitter.com/dog_rates/status/891689557...</td>\n",
       "      <td>13</td>\n",
       "      <td>10</td>\n",
       "      <td>Darla</td>\n",
       "      <td>NaN</td>\n",
       "      <td>10</td>\n",
       "      <td>7581.0</td>\n",
       "      <td>38401.0</td>\n",
       "    </tr>\n",
       "    <tr>\n",
       "      <th>4</th>\n",
       "      <td>891327558926688256</td>\n",
       "      <td>2017-07-29 16:00:24+00:00</td>\n",
       "      <td>&lt;a href=\"http://twitter.com/download/iphone\" r...</td>\n",
       "      <td>This is Franklin. He would like you to stop ca...</td>\n",
       "      <td>https://twitter.com/dog_rates/status/891327558...</td>\n",
       "      <td>12</td>\n",
       "      <td>10</td>\n",
       "      <td>Franklin</td>\n",
       "      <td>NaN</td>\n",
       "      <td>10</td>\n",
       "      <td>8159.0</td>\n",
       "      <td>36660.0</td>\n",
       "    </tr>\n",
       "  </tbody>\n",
       "</table>\n",
       "</div>"
      ],
      "text/plain": [
       "             tweet_id                 timestamp  \\\n",
       "0  892420643555336193 2017-08-01 16:23:56+00:00   \n",
       "1  892177421306343426 2017-08-01 00:17:27+00:00   \n",
       "2  891815181378084864 2017-07-31 00:18:03+00:00   \n",
       "3  891689557279858688 2017-07-30 15:58:51+00:00   \n",
       "4  891327558926688256 2017-07-29 16:00:24+00:00   \n",
       "\n",
       "                                              source  \\\n",
       "0  <a href=\"http://twitter.com/download/iphone\" r...   \n",
       "1  <a href=\"http://twitter.com/download/iphone\" r...   \n",
       "2  <a href=\"http://twitter.com/download/iphone\" r...   \n",
       "3  <a href=\"http://twitter.com/download/iphone\" r...   \n",
       "4  <a href=\"http://twitter.com/download/iphone\" r...   \n",
       "\n",
       "                                                text  \\\n",
       "0  This is Phineas. He's a mystical boy. Only eve...   \n",
       "1  This is Tilly. She's just checking pup on you....   \n",
       "2  This is Archie. He is a rare Norwegian Pouncin...   \n",
       "3  This is Darla. She commenced a snooze mid meal...   \n",
       "4  This is Franklin. He would like you to stop ca...   \n",
       "\n",
       "                                       expanded_urls  rating_numerator  \\\n",
       "0  https://twitter.com/dog_rates/status/892420643...                13   \n",
       "1  https://twitter.com/dog_rates/status/892177421...                13   \n",
       "2  https://twitter.com/dog_rates/status/891815181...                12   \n",
       "3  https://twitter.com/dog_rates/status/891689557...                13   \n",
       "4  https://twitter.com/dog_rates/status/891327558...                12   \n",
       "\n",
       "   rating_denominator      name dog_stage denominator  retweet_count  \\\n",
       "0                  10   Phineas       NaN          10         7403.0   \n",
       "1                  10     Tilly       NaN          10         5512.0   \n",
       "2                  10    Archie       NaN          10         3638.0   \n",
       "3                  10     Darla       NaN          10         7581.0   \n",
       "4                  10  Franklin       NaN          10         8159.0   \n",
       "\n",
       "   favorite_count  \n",
       "0         35121.0  \n",
       "1         30391.0  \n",
       "2         22850.0  \n",
       "3         38401.0  \n",
       "4         36660.0  "
      ]
     },
     "execution_count": 40,
     "metadata": {},
     "output_type": "execute_result"
    }
   ],
   "source": [
    "clean_tweets_df.head()"
   ]
  },
  {
   "cell_type": "markdown",
   "metadata": {},
   "source": [
    "-------------------------------------------"
   ]
  },
  {
   "cell_type": "markdown",
   "metadata": {},
   "source": [
    "- Create master_df :"
   ]
  },
  {
   "cell_type": "code",
   "execution_count": 41,
   "metadata": {},
   "outputs": [],
   "source": [
    "from functools import reduce\n",
    "\n",
    "data_frames = [archive_df3, api_df2, Image_predictions_df2]\n",
    "\n",
    "# if you want to fill the values that don't exist in the lines of merged dataframe simply fill with required strings as\n",
    "master_df = reduce(lambda  left,right: pd.merge(left,right,on=['tweet_id'],how='outer'), data_frames)"
   ]
  },
  {
   "cell_type": "markdown",
   "metadata": {},
   "source": [
    "- Test:"
   ]
  },
  {
   "cell_type": "code",
   "execution_count": 42,
   "metadata": {},
   "outputs": [
    {
     "data": {
      "text/html": [
       "<div>\n",
       "<style scoped>\n",
       "    .dataframe tbody tr th:only-of-type {\n",
       "        vertical-align: middle;\n",
       "    }\n",
       "\n",
       "    .dataframe tbody tr th {\n",
       "        vertical-align: top;\n",
       "    }\n",
       "\n",
       "    .dataframe thead th {\n",
       "        text-align: right;\n",
       "    }\n",
       "</style>\n",
       "<table border=\"1\" class=\"dataframe\">\n",
       "  <thead>\n",
       "    <tr style=\"text-align: right;\">\n",
       "      <th></th>\n",
       "      <th>tweet_id</th>\n",
       "      <th>timestamp</th>\n",
       "      <th>source</th>\n",
       "      <th>text</th>\n",
       "      <th>expanded_urls</th>\n",
       "      <th>rating_numerator</th>\n",
       "      <th>rating_denominator</th>\n",
       "      <th>name</th>\n",
       "      <th>dog_stage</th>\n",
       "      <th>denominator</th>\n",
       "      <th>...</th>\n",
       "      <th>img_num</th>\n",
       "      <th>first_prediction</th>\n",
       "      <th>first_prediction_confidence</th>\n",
       "      <th>first_prediction_result</th>\n",
       "      <th>second_prediction</th>\n",
       "      <th>second_prediction_confidence</th>\n",
       "      <th>second_prediction_result</th>\n",
       "      <th>third_prediction</th>\n",
       "      <th>third_prediction_confidence</th>\n",
       "      <th>third_prediction_result</th>\n",
       "    </tr>\n",
       "  </thead>\n",
       "  <tbody>\n",
       "    <tr>\n",
       "      <th>0</th>\n",
       "      <td>892420643555336193</td>\n",
       "      <td>2017-08-01 16:23:56+00:00</td>\n",
       "      <td>&lt;a href=\"http://twitter.com/download/iphone\" r...</td>\n",
       "      <td>This is Phineas. He's a mystical boy. Only eve...</td>\n",
       "      <td>https://twitter.com/dog_rates/status/892420643...</td>\n",
       "      <td>13</td>\n",
       "      <td>10</td>\n",
       "      <td>Phineas</td>\n",
       "      <td>NaN</td>\n",
       "      <td>10</td>\n",
       "      <td>...</td>\n",
       "      <td>1</td>\n",
       "      <td>Orange</td>\n",
       "      <td>0.097049</td>\n",
       "      <td>False</td>\n",
       "      <td>Bagel</td>\n",
       "      <td>0.085851</td>\n",
       "      <td>False</td>\n",
       "      <td>Banana</td>\n",
       "      <td>0.076110</td>\n",
       "      <td>False</td>\n",
       "    </tr>\n",
       "    <tr>\n",
       "      <th>1</th>\n",
       "      <td>892177421306343426</td>\n",
       "      <td>2017-08-01 00:17:27+00:00</td>\n",
       "      <td>&lt;a href=\"http://twitter.com/download/iphone\" r...</td>\n",
       "      <td>This is Tilly. She's just checking pup on you....</td>\n",
       "      <td>https://twitter.com/dog_rates/status/892177421...</td>\n",
       "      <td>13</td>\n",
       "      <td>10</td>\n",
       "      <td>Tilly</td>\n",
       "      <td>NaN</td>\n",
       "      <td>10</td>\n",
       "      <td>...</td>\n",
       "      <td>1</td>\n",
       "      <td>Chihuahua</td>\n",
       "      <td>0.323581</td>\n",
       "      <td>True</td>\n",
       "      <td>Pekinese</td>\n",
       "      <td>0.090647</td>\n",
       "      <td>True</td>\n",
       "      <td>Papillon</td>\n",
       "      <td>0.068957</td>\n",
       "      <td>True</td>\n",
       "    </tr>\n",
       "    <tr>\n",
       "      <th>2</th>\n",
       "      <td>891815181378084864</td>\n",
       "      <td>2017-07-31 00:18:03+00:00</td>\n",
       "      <td>&lt;a href=\"http://twitter.com/download/iphone\" r...</td>\n",
       "      <td>This is Archie. He is a rare Norwegian Pouncin...</td>\n",
       "      <td>https://twitter.com/dog_rates/status/891815181...</td>\n",
       "      <td>12</td>\n",
       "      <td>10</td>\n",
       "      <td>Archie</td>\n",
       "      <td>NaN</td>\n",
       "      <td>10</td>\n",
       "      <td>...</td>\n",
       "      <td>1</td>\n",
       "      <td>Chihuahua</td>\n",
       "      <td>0.716012</td>\n",
       "      <td>True</td>\n",
       "      <td>Malamute</td>\n",
       "      <td>0.078253</td>\n",
       "      <td>True</td>\n",
       "      <td>Kelpie</td>\n",
       "      <td>0.031379</td>\n",
       "      <td>True</td>\n",
       "    </tr>\n",
       "    <tr>\n",
       "      <th>3</th>\n",
       "      <td>891689557279858688</td>\n",
       "      <td>2017-07-30 15:58:51+00:00</td>\n",
       "      <td>&lt;a href=\"http://twitter.com/download/iphone\" r...</td>\n",
       "      <td>This is Darla. She commenced a snooze mid meal...</td>\n",
       "      <td>https://twitter.com/dog_rates/status/891689557...</td>\n",
       "      <td>13</td>\n",
       "      <td>10</td>\n",
       "      <td>Darla</td>\n",
       "      <td>NaN</td>\n",
       "      <td>10</td>\n",
       "      <td>...</td>\n",
       "      <td>1</td>\n",
       "      <td>Paper_Towel</td>\n",
       "      <td>0.170278</td>\n",
       "      <td>False</td>\n",
       "      <td>Labrador_Retriever</td>\n",
       "      <td>0.168086</td>\n",
       "      <td>True</td>\n",
       "      <td>Spatula</td>\n",
       "      <td>0.040836</td>\n",
       "      <td>False</td>\n",
       "    </tr>\n",
       "    <tr>\n",
       "      <th>4</th>\n",
       "      <td>891327558926688256</td>\n",
       "      <td>2017-07-29 16:00:24+00:00</td>\n",
       "      <td>&lt;a href=\"http://twitter.com/download/iphone\" r...</td>\n",
       "      <td>This is Franklin. He would like you to stop ca...</td>\n",
       "      <td>https://twitter.com/dog_rates/status/891327558...</td>\n",
       "      <td>12</td>\n",
       "      <td>10</td>\n",
       "      <td>Franklin</td>\n",
       "      <td>NaN</td>\n",
       "      <td>10</td>\n",
       "      <td>...</td>\n",
       "      <td>2</td>\n",
       "      <td>Basset</td>\n",
       "      <td>0.555712</td>\n",
       "      <td>True</td>\n",
       "      <td>English_Springer</td>\n",
       "      <td>0.225770</td>\n",
       "      <td>True</td>\n",
       "      <td>German_Short-Haired_Pointer</td>\n",
       "      <td>0.175219</td>\n",
       "      <td>True</td>\n",
       "    </tr>\n",
       "  </tbody>\n",
       "</table>\n",
       "<p>5 rows × 23 columns</p>\n",
       "</div>"
      ],
      "text/plain": [
       "             tweet_id                 timestamp  \\\n",
       "0  892420643555336193 2017-08-01 16:23:56+00:00   \n",
       "1  892177421306343426 2017-08-01 00:17:27+00:00   \n",
       "2  891815181378084864 2017-07-31 00:18:03+00:00   \n",
       "3  891689557279858688 2017-07-30 15:58:51+00:00   \n",
       "4  891327558926688256 2017-07-29 16:00:24+00:00   \n",
       "\n",
       "                                              source  \\\n",
       "0  <a href=\"http://twitter.com/download/iphone\" r...   \n",
       "1  <a href=\"http://twitter.com/download/iphone\" r...   \n",
       "2  <a href=\"http://twitter.com/download/iphone\" r...   \n",
       "3  <a href=\"http://twitter.com/download/iphone\" r...   \n",
       "4  <a href=\"http://twitter.com/download/iphone\" r...   \n",
       "\n",
       "                                                text  \\\n",
       "0  This is Phineas. He's a mystical boy. Only eve...   \n",
       "1  This is Tilly. She's just checking pup on you....   \n",
       "2  This is Archie. He is a rare Norwegian Pouncin...   \n",
       "3  This is Darla. She commenced a snooze mid meal...   \n",
       "4  This is Franklin. He would like you to stop ca...   \n",
       "\n",
       "                                       expanded_urls  rating_numerator  \\\n",
       "0  https://twitter.com/dog_rates/status/892420643...                13   \n",
       "1  https://twitter.com/dog_rates/status/892177421...                13   \n",
       "2  https://twitter.com/dog_rates/status/891815181...                12   \n",
       "3  https://twitter.com/dog_rates/status/891689557...                13   \n",
       "4  https://twitter.com/dog_rates/status/891327558...                12   \n",
       "\n",
       "   rating_denominator      name dog_stage denominator  ...  img_num  \\\n",
       "0                  10   Phineas       NaN          10  ...        1   \n",
       "1                  10     Tilly       NaN          10  ...        1   \n",
       "2                  10    Archie       NaN          10  ...        1   \n",
       "3                  10     Darla       NaN          10  ...        1   \n",
       "4                  10  Franklin       NaN          10  ...        2   \n",
       "\n",
       "   first_prediction first_prediction_confidence  first_prediction_result  \\\n",
       "0            Orange                    0.097049                    False   \n",
       "1         Chihuahua                    0.323581                     True   \n",
       "2         Chihuahua                    0.716012                     True   \n",
       "3       Paper_Towel                    0.170278                    False   \n",
       "4            Basset                    0.555712                     True   \n",
       "\n",
       "    second_prediction  second_prediction_confidence  second_prediction_result  \\\n",
       "0               Bagel                      0.085851                     False   \n",
       "1            Pekinese                      0.090647                      True   \n",
       "2            Malamute                      0.078253                      True   \n",
       "3  Labrador_Retriever                      0.168086                      True   \n",
       "4    English_Springer                      0.225770                      True   \n",
       "\n",
       "              third_prediction  third_prediction_confidence  \\\n",
       "0                       Banana                     0.076110   \n",
       "1                     Papillon                     0.068957   \n",
       "2                       Kelpie                     0.031379   \n",
       "3                      Spatula                     0.040836   \n",
       "4  German_Short-Haired_Pointer                     0.175219   \n",
       "\n",
       "   third_prediction_result  \n",
       "0                    False  \n",
       "1                     True  \n",
       "2                     True  \n",
       "3                    False  \n",
       "4                     True  \n",
       "\n",
       "[5 rows x 23 columns]"
      ]
     },
     "execution_count": 42,
     "metadata": {},
     "output_type": "execute_result"
    }
   ],
   "source": [
    "master_df.head()"
   ]
  },
  {
   "cell_type": "code",
   "execution_count": 43,
   "metadata": {},
   "outputs": [],
   "source": [
    "#export the cleaned DataFrames as CSV files\n",
    "\n",
    "archive_df3.to_csv (r'C:\\Users\\mario\\Desktop\\archive_df3.csv', index = False, header=True)\n",
    "Image_predictions_df2.to_csv (r'C:\\Users\\mario\\Desktop\\Image_predictions_df2.csv', index = False, header=True)\n",
    "api_df2.to_csv (r'C:\\Users\\mario\\Desktop\\api_df2.csv', index = False, header=True)\n",
    "clean_tweets_df.to_csv (r'C:\\Users\\mario\\Desktop\\clean_tweets_df.csv', index = False, header=True)\n",
    "master_df.to_csv (r'C:\\Users\\mario\\Desktop\\master_df.csv', index = False, header=True)"
   ]
  },
  {
   "cell_type": "markdown",
   "metadata": {},
   "source": [
    "-------------------------------------------------"
   ]
  },
  {
   "cell_type": "markdown",
   "metadata": {},
   "source": [
    "## Data Visualization"
   ]
  },
  {
   "cell_type": "code",
   "execution_count": 44,
   "metadata": {},
   "outputs": [],
   "source": [
    "viz_df = master_df\n",
    "viz_df['month_year'] = pd.to_datetime(viz_df['timestamp']).dt.to_period('M')\n",
    "viz_df['month'] = viz_df['timestamp'].dt.month\n",
    "viz_df['year'] = viz_df['timestamp'].dt.year"
   ]
  },
  {
   "cell_type": "markdown",
   "metadata": {},
   "source": [
    "### 1. Visualization for average ratings for dogs and interactions over time"
   ]
  },
  {
   "cell_type": "code",
   "execution_count": 45,
   "metadata": {},
   "outputs": [],
   "source": [
    "sns.set_context(context='notebook')\n",
    "sns.set(rc={'figure.figsize':(15,6)})"
   ]
  },
  {
   "cell_type": "code",
   "execution_count": 46,
   "metadata": {},
   "outputs": [
    {
     "data": {
      "text/plain": [
       "<matplotlib.lines.Line2D at 0x25268e88b20>"
      ]
     },
     "execution_count": 46,
     "metadata": {},
     "output_type": "execute_result"
    },
    {
     "data": {
      "image/png": "[encoded data removed]",
      "text/plain": [
       "<Figure size 864x576 with 1 Axes>"
      ]
     },
     "metadata": {},
     "output_type": "display_data"
    }
   ],
   "source": [
    "df_t = master_df.copy()\n",
    "c = df_t.groupby(['year', 'month']).mean()['rating_numerator']\n",
    "a = df_t['month_year'].unique()\n",
    "a=a[::-1]\n",
    "width = 0.35\n",
    "ind = np.arange(len(c))  # the x locations for the groups\n",
    "df_t.index = df_t['timestamp']\n",
    "df_t.sort_index(inplace=True)\n",
    "data_to_plot = df_t.groupby([(df_t.index.year),(df_t.index.month)]).rating_numerator.mean()\n",
    "data_to_plot.plot(style='-ro', figsize=(12,8),label='Total average rating')\n",
    "plt.ylabel('Ratings (out of 10)')\n",
    "plt.xlabel('Date')\n",
    "plt.title('Average Ratings Over Time')\n",
    "locations = ind  # xtick locations\n",
    "labels = a # xtick labels\n",
    "plt.xticks(locations, labels,rotation='45')\n",
    "plt.axhline(y=10.0, color='b', linestyle='--', label='Out of rating')"
   ]
  },
  {
   "cell_type": "code",
   "execution_count": 47,
   "metadata": {},
   "outputs": [
    {
     "data": {
      "text/plain": [
       "<matplotlib.legend.Legend at 0x252691ec850>"
      ]
     },
     "execution_count": 47,
     "metadata": {},
     "output_type": "execute_result"
    },
    {
     "data": {
      "image/png": "[encoded data removed]",
      "text/plain": [
       "<Figure size 864x576 with 1 Axes>"
      ]
     },
     "metadata": {},
     "output_type": "display_data"
    }
   ],
   "source": [
    "\n",
    "avg_fav = df_t.groupby(['year', 'month']).mean()['favorite_count']\n",
    "avg_ret = df_t.groupby(['year', 'month']).mean()['retweet_count']\n",
    "a = df_t['month_year'].unique()\n",
    "a=a[::-1]\n",
    "width = 0.35\n",
    "ind = np.arange(len(avg_ret))  # the x locations for the groups\n",
    "df_t.index = df_t['timestamp']\n",
    "df_t.sort_index(inplace=True)\n",
    "\n",
    "data_to_plot1 = df_t.groupby([(df_t.index.year),(df_t.index.month)]).favorite_count.mean()\n",
    "data_to_plot1.plot(style='-ro', figsize=(12,8),label='Average Favorites Count')\n",
    "\n",
    "data_to_plot2 = df_t.groupby([(df_t.index.year),(df_t.index.month)]).retweet_count.mean()\n",
    "data_to_plot2.plot(style='-bo', figsize=(12,8),label='Average Retweets Count')\n",
    "\n",
    "plt.ylabel('Average Retweets / Favorites Count')\n",
    "plt.xlabel('Date')\n",
    "plt.title('Average Retweets / Favorites Over Time')\n",
    "locations = ind  # xtick locations\n",
    "labels = a # xtick labels\n",
    "plt.xticks(locations, labels,rotation='45')\n",
    "plt.legend()"
   ]
  },
  {
   "cell_type": "markdown",
   "metadata": {},
   "source": [
    "----------------------------------------"
   ]
  },
  {
   "cell_type": "markdown",
   "metadata": {},
   "source": [
    "### 2. Visualization for ratings of different dogs stages"
   ]
  },
  {
   "cell_type": "code",
   "execution_count": 48,
   "metadata": {},
   "outputs": [
    {
     "data": {
      "image/png": "[encoded data removed]",
      "text/plain": [
       "<Figure size 1080x432 with 1 Axes>"
      ]
     },
     "metadata": {},
     "output_type": "display_data"
    }
   ],
   "source": [
    "a = df_t['dog_stage'].value_counts()\n",
    "ind = np.arange(len(a))\n",
    "df_t.index = df_t['dog_stage']\n",
    "df_t.sort_index(inplace=True)\n",
    "width = 0.35\n",
    "data_to_plot = df_t.groupby([(df_t.dog_stage)]).rating_numerator.mean()\n",
    "graph = plt.bar(ind , data_to_plot, width, color='r')\n",
    "plt.ylabel('Ratings (out of 10)')\n",
    "plt.title('Average Ratings for different dogs stages')\n",
    "\n",
    "df_t.index = df_t['dog_stage']\n",
    "labels = df_t['dog_stage'].dropna().unique()\n",
    "locations = ind \n",
    "plt.xticks(locations, labels,rotation='horizontal')\n",
    "plt.show()"
   ]
  },
  {
   "cell_type": "markdown",
   "metadata": {},
   "source": [
    "-------------------------------------------------------"
   ]
  },
  {
   "cell_type": "markdown",
   "metadata": {},
   "source": [
    "### 2. Visualization for interactions with different dogs breeds"
   ]
  },
  {
   "cell_type": "code",
   "execution_count": 49,
   "metadata": {
    "scrolled": false
   },
   "outputs": [
    {
     "data": {
      "image/png": "[encoded data removed]",
      "text/plain": [
       "<Figure size 1080x432 with 1 Axes>"
      ]
     },
     "metadata": {},
     "output_type": "display_data"
    }
   ],
   "source": [
    "breed = df_t['first_prediction'].value_counts().nlargest(10).index.tolist()\n",
    "ind = np.arange(len(breed))\n",
    "df_t.index = df_t['first_prediction']\n",
    "df_t.sort_index(inplace=True)\n",
    "width = 0.25\n",
    "data_to_plot1 = df_t.groupby([(df_t.first_prediction)]).favorite_count.mean().nlargest(10)\n",
    "data_to_plot2 = df_t.groupby([(df_t.first_prediction)]).retweet_count.mean().nlargest(10)\n",
    "\n",
    "graph1 = plt.bar(ind , data_to_plot1, width, color='r',label='favorite_count')\n",
    "graph2 = plt.bar(ind+width , data_to_plot2, width, color='b', label = 'retweet_count')\n",
    "plt.ylabel('Average Retweets / Favorites')\n",
    "plt.title('Average Favorites / Retweets for different dogs breeds')\n",
    "\n",
    "df_t.index = df_t['first_prediction']\n",
    "labels = breed\n",
    "locations = ind +width/2\n",
    "plt.xticks(locations, labels,rotation='45')\n",
    "plt.legend()\n",
    "plt.show()"
   ]
  },
  {
   "cell_type": "markdown",
   "metadata": {},
   "source": [
    "-------------------------------------------------------"
   ]
  },
  {
   "cell_type": "code",
   "execution_count": null,
   "metadata": {},
   "outputs": [],
   "source": []
  }
 ],
 "metadata": {
  "kernelspec": {
   "display_name": "Python 3",
   "language": "python",
   "name": "python3"
  },
  "language_info": {
   "codemirror_mode": {
    "name": "ipython",
    "version": 3
   },
   "file_extension": ".py",
   "mimetype": "text/x-python",
   "name": "python",
   "nbconvert_exporter": "python",
   "pygments_lexer": "ipython3",
   "version": "3.8.5"
  }
 },
 "nbformat": 4,
 "nbformat_minor": 4
}
